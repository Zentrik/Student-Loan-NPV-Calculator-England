{
    "cells": [
        {
            "cell_type": "code",
            "execution_count": 1,
            "metadata": {},
            "outputs": [],
            "source": [
                "import json\n",
                "import requests\n",
                "import pandas as pd\n",
                "import numpy as np\n",
                "import matplotlib.pyplot as plt\n",
                "import seaborn as sns\n",
                "import math\n",
                "from tqdm.auto import tqdm\n",
                "from multiprocessing import Pool\n",
                "from recombinator.iid_bootstrap import iid_bootstrap\n",
                "import recombinator.block_bootstrap as bb\n",
                "from recombinator.optimal_block_length import optimal_block_length\n",
                "from numba import njit\n",
                "from functools import partial\n",
                "import yfinance as yf\n",
                "import sys\n",
                "import os\n",
                "\n",
                "sns.set_style('whitegrid')\n",
                "sns.set_context(\"paper\", font_scale=1.7)"
            ]
        },
        {
            "cell_type": "code",
            "execution_count": 2,
            "metadata": {},
            "outputs": [
                {
                    "data": {
                        "text/html": [
                            "<div>\n",
                            "<style scoped>\n",
                            "    .dataframe tbody tr th:only-of-type {\n",
                            "        vertical-align: middle;\n",
                            "    }\n",
                            "\n",
                            "    .dataframe tbody tr th {\n",
                            "        vertical-align: top;\n",
                            "    }\n",
                            "\n",
                            "    .dataframe thead th {\n",
                            "        text-align: right;\n",
                            "    }\n",
                            "</style>\n",
                            "<table border=\"1\" class=\"dataframe\">\n",
                            "  <thead>\n",
                            "    <tr style=\"text-align: right;\">\n",
                            "      <th></th>\n",
                            "      <th>rpi_yronyr</th>\n",
                            "    </tr>\n",
                            "    <tr>\n",
                            "      <th>date</th>\n",
                            "      <th></th>\n",
                            "    </tr>\n",
                            "  </thead>\n",
                            "  <tbody>\n",
                            "    <tr>\n",
                            "      <th>2021-07-01</th>\n",
                            "      <td>1.015</td>\n",
                            "    </tr>\n",
                            "    <tr>\n",
                            "      <th>2021-08-01</th>\n",
                            "      <td>1.015</td>\n",
                            "    </tr>\n",
                            "    <tr>\n",
                            "      <th>2021-09-01</th>\n",
                            "      <td>1.015</td>\n",
                            "    </tr>\n",
                            "    <tr>\n",
                            "      <th>2021-10-01</th>\n",
                            "      <td>1.015</td>\n",
                            "    </tr>\n",
                            "    <tr>\n",
                            "      <th>2021-11-01</th>\n",
                            "      <td>1.015</td>\n",
                            "    </tr>\n",
                            "  </tbody>\n",
                            "</table>\n",
                            "</div>"
                        ],
                        "text/plain": [
                            "            rpi_yronyr\n",
                            "date                  \n",
                            "2021-07-01       1.015\n",
                            "2021-08-01       1.015\n",
                            "2021-09-01       1.015\n",
                            "2021-10-01       1.015\n",
                            "2021-11-01       1.015"
                        ]
                    },
                    "execution_count": 2,
                    "metadata": {},
                    "output_type": "execute_result"
                }
            ],
            "source": [
                "url = 'https://www.ons.gov.uk/economy/inflationandpriceindices/timeseries/czbh/mm23/data'\n",
                "\n",
                "header = {\n",
                "  \"User-Agent\": \"Mozilla/5.0 (X11; Linux x86_64) AppleWebKit/537.36 (KHTML, like Gecko) Chrome/50.0.2661.75 Safari/537.36\",\n",
                "  \"X-Requested-With\": \"XMLHttpRequest\"\n",
                "}\n",
                "\n",
                "r = requests.get(url, headers=header)\n",
                "# https://stackoverflow.com/questions/43590153/http-error-403-forbidden-when-reading-html\n",
                "data = json.loads(r.text)\n",
                "rpi_yronyr_df = pd.json_normalize(data, record_path=['months'])\n",
                "#https://towardsdatascience.com/how-to-convert-json-into-a-pandas-dataframe-100b2ae1e0d8\n",
                "rpi_yronyr_df = rpi_yronyr_df[['date', 'value']].apply(pd.Series)\n",
                "rpi_yronyr_df['value'] = rpi_yronyr_df['value'].astype(float)\n",
                "rpi_yronyr_df['value'] = 1 + rpi_yronyr_df['value'] / 100\n",
                "\n",
                "rpi_yronyr_df['date'] = pd.to_datetime(rpi_yronyr_df['date'], format='%Y %b')\n",
                "rpi_yronyr_df = rpi_yronyr_df.set_index(['date'])\n",
                "\n",
                "# rpi_yronyr_df = rpi_yronyr_df[] # only keep march data\n",
                "rpi_yronyr_df.columns = ['rpi_yronyr']\n",
                "\n",
                "is_march = (rpi_yronyr_df.index.month == 3)\n",
                "j = -1\n",
                "to_drop = []\n",
                "for i in range(rpi_yronyr_df.shape[0]):\n",
                "  if is_march[i]:\n",
                "    j = i\n",
                "  elif j == -1:\n",
                "    to_drop.append(i)\n",
                "  else:\n",
                "    rpi_yronyr_df.iloc[i] = rpi_yronyr_df.iloc[j].values\n",
                "        \n",
                "rpi_yronyr_df.drop(index = rpi_yronyr_df.index[to_drop], inplace=True)\n",
                "\n",
                "rpi_yronyr_df.tail()"
            ]
        },
        {
            "cell_type": "code",
            "execution_count": 3,
            "metadata": {},
            "outputs": [
                {
                    "data": {
                        "text/html": [
                            "<div>\n",
                            "<style scoped>\n",
                            "    .dataframe tbody tr th:only-of-type {\n",
                            "        vertical-align: middle;\n",
                            "    }\n",
                            "\n",
                            "    .dataframe tbody tr th {\n",
                            "        vertical-align: top;\n",
                            "    }\n",
                            "\n",
                            "    .dataframe thead th {\n",
                            "        text-align: right;\n",
                            "    }\n",
                            "</style>\n",
                            "<table border=\"1\" class=\"dataframe\">\n",
                            "  <thead>\n",
                            "    <tr style=\"text-align: right;\">\n",
                            "      <th></th>\n",
                            "      <th>cpih_mnthonmnth</th>\n",
                            "    </tr>\n",
                            "    <tr>\n",
                            "      <th>date</th>\n",
                            "      <th></th>\n",
                            "    </tr>\n",
                            "  </thead>\n",
                            "  <tbody>\n",
                            "    <tr>\n",
                            "      <th>2021-07-01</th>\n",
                            "      <td>1.000</td>\n",
                            "    </tr>\n",
                            "    <tr>\n",
                            "      <th>2021-08-01</th>\n",
                            "      <td>1.006</td>\n",
                            "    </tr>\n",
                            "    <tr>\n",
                            "      <th>2021-09-01</th>\n",
                            "      <td>1.003</td>\n",
                            "    </tr>\n",
                            "    <tr>\n",
                            "      <th>2021-10-01</th>\n",
                            "      <td>1.009</td>\n",
                            "    </tr>\n",
                            "    <tr>\n",
                            "      <th>2021-11-01</th>\n",
                            "      <td>1.006</td>\n",
                            "    </tr>\n",
                            "  </tbody>\n",
                            "</table>\n",
                            "</div>"
                        ],
                        "text/plain": [
                            "            cpih_mnthonmnth\n",
                            "date                       \n",
                            "2021-07-01            1.000\n",
                            "2021-08-01            1.006\n",
                            "2021-09-01            1.003\n",
                            "2021-10-01            1.009\n",
                            "2021-11-01            1.006"
                        ]
                    },
                    "execution_count": 3,
                    "metadata": {},
                    "output_type": "execute_result"
                }
            ],
            "source": [
                "url = 'https://www.ons.gov.uk/economy/inflationandpriceindices/timeseries/l59c/mm23/data'\n",
                "\n",
                "r = requests.get(url, headers=header)\n",
                "# https://stackoverflow.com/questions/43590153/http-error-403-forbidden-when-reading-html\n",
                "data = json.loads(r.text)\n",
                "cpih_mnthonmnth_df = pd.json_normalize(data, record_path=['months'])\n",
                "# https://towardsdatascience.com/how-to-convert-json-into-a-pandas-dataframe-100b2ae1e0d8\n",
                "cpih_mnthonmnth_df = cpih_mnthonmnth_df[['date', 'value']].apply(pd.Series)\n",
                "cpih_mnthonmnth_df['value'] = cpih_mnthonmnth_df['value'].astype(float)\n",
                "cpih_mnthonmnth_df['value'] = 1 + cpih_mnthonmnth_df['value'] / 100\n",
                "\n",
                "# https://stackoverflow.com/questions/65612231/convert-string-month-year-to-datetime-in-pandas-dataframe\n",
                "\n",
                "cpih_mnthonmnth_df['date'] = pd.to_datetime(\n",
                "    cpih_mnthonmnth_df['date'], format='%Y %b')\n",
                "cpih_mnthonmnth_df = cpih_mnthonmnth_df.set_index(['date'])\n",
                "\n",
                "cpih_mnthonmnth_df.columns = ['cpih_mnthonmnth']\n",
                "\n",
                "cpih_mnthonmnth_df.tail()\n"
            ]
        },
        {
            "cell_type": "code",
            "execution_count": 4,
            "metadata": {},
            "outputs": [
                {
                    "data": {
                        "text/html": [
                            "<div>\n",
                            "<style scoped>\n",
                            "    .dataframe tbody tr th:only-of-type {\n",
                            "        vertical-align: middle;\n",
                            "    }\n",
                            "\n",
                            "    .dataframe tbody tr th {\n",
                            "        vertical-align: top;\n",
                            "    }\n",
                            "\n",
                            "    .dataframe thead th {\n",
                            "        text-align: right;\n",
                            "    }\n",
                            "</style>\n",
                            "<table border=\"1\" class=\"dataframe\">\n",
                            "  <thead>\n",
                            "    <tr style=\"text-align: right;\">\n",
                            "      <th></th>\n",
                            "      <th>SP500_daily</th>\n",
                            "    </tr>\n",
                            "    <tr>\n",
                            "      <th>Date</th>\n",
                            "      <th></th>\n",
                            "    </tr>\n",
                            "  </thead>\n",
                            "  <tbody>\n",
                            "    <tr>\n",
                            "      <th>2010-10-01</th>\n",
                            "      <td>2580.000000</td>\n",
                            "    </tr>\n",
                            "    <tr>\n",
                            "      <th>2010-11-01</th>\n",
                            "      <td>2588.000000</td>\n",
                            "    </tr>\n",
                            "    <tr>\n",
                            "      <th>2010-12-01</th>\n",
                            "      <td>2758.000000</td>\n",
                            "    </tr>\n",
                            "    <tr>\n",
                            "      <th>2011-01-01</th>\n",
                            "      <td>2811.000000</td>\n",
                            "    </tr>\n",
                            "    <tr>\n",
                            "      <th>2011-02-01</th>\n",
                            "      <td>2908.500000</td>\n",
                            "    </tr>\n",
                            "    <tr>\n",
                            "      <th>...</th>\n",
                            "      <td>...</td>\n",
                            "    </tr>\n",
                            "    <tr>\n",
                            "      <th>2021-10-01</th>\n",
                            "      <td>10515.500000</td>\n",
                            "    </tr>\n",
                            "    <tr>\n",
                            "      <th>2021-11-01</th>\n",
                            "      <td>10508.000000</td>\n",
                            "    </tr>\n",
                            "    <tr>\n",
                            "      <th>2021-12-01</th>\n",
                            "      <td>10989.500000</td>\n",
                            "    </tr>\n",
                            "    <tr>\n",
                            "      <th>2022-01-01</th>\n",
                            "      <td>10922.000000</td>\n",
                            "    </tr>\n",
                            "    <tr>\n",
                            "      <th>2022-01-04</th>\n",
                            "      <td>11011.200195</td>\n",
                            "    </tr>\n",
                            "  </tbody>\n",
                            "</table>\n",
                            "<p>137 rows × 1 columns</p>\n",
                            "</div>"
                        ],
                        "text/plain": [
                            "             SP500_daily\n",
                            "Date                    \n",
                            "2010-10-01   2580.000000\n",
                            "2010-11-01   2588.000000\n",
                            "2010-12-01   2758.000000\n",
                            "2011-01-01   2811.000000\n",
                            "2011-02-01   2908.500000\n",
                            "...                  ...\n",
                            "2021-10-01  10515.500000\n",
                            "2021-11-01  10508.000000\n",
                            "2021-12-01  10989.500000\n",
                            "2022-01-01  10922.000000\n",
                            "2022-01-04  11011.200195\n",
                            "\n",
                            "[137 rows x 1 columns]"
                        ]
                    },
                    "execution_count": 4,
                    "metadata": {},
                    "output_type": "execute_result"
                }
            ],
            "source": [
                "sp500 = yf.Ticker(\"IGUS.L\")\n",
                "hist = sp500.history(period=\"max\", interval=\"1mo\")\n",
                "SP500_daily_returns = hist['Close'].to_frame() # these seem to be and should be monthly returns, why is it named daily?\n",
                "SP500_daily_returns.columns = ['SP500_daily']\n",
                "\n",
                "SP500_daily_returns\n"
            ]
        },
        {
            "cell_type": "code",
            "execution_count": 5,
            "metadata": {},
            "outputs": [
                {
                    "data": {
                        "text/html": [
                            "<div>\n",
                            "<style scoped>\n",
                            "    .dataframe tbody tr th:only-of-type {\n",
                            "        vertical-align: middle;\n",
                            "    }\n",
                            "\n",
                            "    .dataframe tbody tr th {\n",
                            "        vertical-align: top;\n",
                            "    }\n",
                            "\n",
                            "    .dataframe thead th {\n",
                            "        text-align: right;\n",
                            "    }\n",
                            "</style>\n",
                            "<table border=\"1\" class=\"dataframe\">\n",
                            "  <thead>\n",
                            "    <tr style=\"text-align: right;\">\n",
                            "      <th></th>\n",
                            "      <th>SP500_daily</th>\n",
                            "      <th>cpih_mnthonmnth</th>\n",
                            "      <th>rpi_yronyr</th>\n",
                            "    </tr>\n",
                            "  </thead>\n",
                            "  <tbody>\n",
                            "    <tr>\n",
                            "      <th>2010-11-01</th>\n",
                            "      <td>1.003101</td>\n",
                            "      <td>1.003</td>\n",
                            "      <td>1.044</td>\n",
                            "    </tr>\n",
                            "    <tr>\n",
                            "      <th>2010-12-01</th>\n",
                            "      <td>1.065688</td>\n",
                            "      <td>1.008</td>\n",
                            "      <td>1.044</td>\n",
                            "    </tr>\n",
                            "    <tr>\n",
                            "      <th>2011-01-01</th>\n",
                            "      <td>1.019217</td>\n",
                            "      <td>1.001</td>\n",
                            "      <td>1.044</td>\n",
                            "    </tr>\n",
                            "    <tr>\n",
                            "      <th>2011-02-01</th>\n",
                            "      <td>1.034685</td>\n",
                            "      <td>1.006</td>\n",
                            "      <td>1.044</td>\n",
                            "    </tr>\n",
                            "    <tr>\n",
                            "      <th>2011-03-01</th>\n",
                            "      <td>1.001719</td>\n",
                            "      <td>1.003</td>\n",
                            "      <td>1.053</td>\n",
                            "    </tr>\n",
                            "    <tr>\n",
                            "      <th>...</th>\n",
                            "      <td>...</td>\n",
                            "      <td>...</td>\n",
                            "      <td>...</td>\n",
                            "    </tr>\n",
                            "    <tr>\n",
                            "      <th>2021-07-01</th>\n",
                            "      <td>1.024791</td>\n",
                            "      <td>1.000</td>\n",
                            "      <td>1.015</td>\n",
                            "    </tr>\n",
                            "    <tr>\n",
                            "      <th>2021-08-01</th>\n",
                            "      <td>1.030103</td>\n",
                            "      <td>1.006</td>\n",
                            "      <td>1.015</td>\n",
                            "    </tr>\n",
                            "    <tr>\n",
                            "      <th>2021-09-01</th>\n",
                            "      <td>0.963640</td>\n",
                            "      <td>1.003</td>\n",
                            "      <td>1.015</td>\n",
                            "    </tr>\n",
                            "    <tr>\n",
                            "      <th>2021-10-01</th>\n",
                            "      <td>1.052445</td>\n",
                            "      <td>1.009</td>\n",
                            "      <td>1.015</td>\n",
                            "    </tr>\n",
                            "    <tr>\n",
                            "      <th>2021-11-01</th>\n",
                            "      <td>0.999287</td>\n",
                            "      <td>1.006</td>\n",
                            "      <td>1.015</td>\n",
                            "    </tr>\n",
                            "  </tbody>\n",
                            "</table>\n",
                            "<p>133 rows × 3 columns</p>\n",
                            "</div>"
                        ],
                        "text/plain": [
                            "            SP500_daily  cpih_mnthonmnth  rpi_yronyr\n",
                            "2010-11-01     1.003101            1.003       1.044\n",
                            "2010-12-01     1.065688            1.008       1.044\n",
                            "2011-01-01     1.019217            1.001       1.044\n",
                            "2011-02-01     1.034685            1.006       1.044\n",
                            "2011-03-01     1.001719            1.003       1.053\n",
                            "...                 ...              ...         ...\n",
                            "2021-07-01     1.024791            1.000       1.015\n",
                            "2021-08-01     1.030103            1.006       1.015\n",
                            "2021-09-01     0.963640            1.003       1.015\n",
                            "2021-10-01     1.052445            1.009       1.015\n",
                            "2021-11-01     0.999287            1.006       1.015\n",
                            "\n",
                            "[133 rows x 3 columns]"
                        ]
                    },
                    "execution_count": 5,
                    "metadata": {},
                    "output_type": "execute_result"
                }
            ],
            "source": [
                "sp500_cpi_df = SP500_daily_returns.pct_change()[1:]\n",
                "sp500_cpi_df['SP500_daily'] = sp500_cpi_df['SP500_daily'] + 1\n",
                "\n",
                "sp500_cpi_df = sp500_cpi_df.merge(\n",
                "    cpih_mnthonmnth_df, left_index=True, right_index=True)\n",
                "\n",
                "sp500_cpi_df = sp500_cpi_df.merge(\n",
                "    rpi_yronyr_df, left_index=True, right_index=True)\n",
                "\n",
                "sp500_cpi_df"
            ]
        },
        {
            "cell_type": "code",
            "execution_count": 6,
            "metadata": {},
            "outputs": [],
            "source": [
                "@njit()\n",
                "def monthly_repayment(monthly_income, lower_taxband_monthly_income):\n",
                "    delta_income = monthly_income - lower_taxband_monthly_income\n",
                "    if delta_income > 0:\n",
                "        return delta_income * 0.09\n",
                "    else:\n",
                "        return 0\n",
                "\n",
                "@njit()\n",
                "def working_interest(monthly_income, lower_taxband_monthly_income, upper_taxband_monthly_income, rpi):\n",
                "    income = monthly_income\n",
                "    bottom_band = lower_taxband_monthly_income\n",
                "    upper_band = upper_taxband_monthly_income\n",
                "\n",
                "    delta_income = income - bottom_band\n",
                "    if delta_income > 0:\n",
                "        if income > upper_band:\n",
                "            # daily interest rate from annual interest rate\n",
                "            return (rpi + 0.03) ** (1 / 365)\n",
                "        else:\n",
                "            # linear interpolation with 0% at 27295 and 3% at 49130\n",
                "            return (rpi + delta_income / (upper_band - bottom_band) * 0.03) ** (1 / 365)\n",
                "    else:\n",
                "        return 1"
            ]
        },
        {
            "cell_type": "code",
            "execution_count": 7,
            "metadata": {},
            "outputs": [],
            "source": [
                "# https://www.reddit.com/r/badeconomics/comments/k9g348/what_vanguard_wont_tell_you/\n",
                "def gen_bootstrap_samples(returns_df, bootstrap_replications, no_of_months, kind, block_length=10):\n",
                "    # Generate bootstrap samples\n",
                "\n",
                "    if kind == \"iid\":\n",
                "        bootstrap_samples = iid_bootstrap(\n",
                "            np.array(returns_df),\n",
                "            replications=bootstrap_replications,\n",
                "            sub_sample_length=no_of_months,\n",
                "        )\n",
                "    elif kind == \"stationary\":\n",
                "        bootstrap_samples = bb.stationary_bootstrap(\n",
                "            np.array(returns_df),\n",
                "            block_length=block_length,\n",
                "            replications=bootstrap_replications,\n",
                "            sub_sample_length=no_of_months,\n",
                "        )\n",
                "    else:\n",
                "        raise Exception(f'Unknown bootstrap type: {kind}')\n",
                "\n",
                "    return bootstrap_samples\n"
            ]
        },
        {
            "cell_type": "code",
            "execution_count": 8,
            "metadata": {},
            "outputs": [],
            "source": [
                "@njit()\n",
                "def sim_portfolio(bootstrap_sample, lower_taxband, upper_taxband, base_yrly_salary, real_salary_yronyr_growth, real_avg_salary_yronyr_growth, daterange1, daterange2):\n",
                "    payments = 0\n",
                "    npv_payments = 0\n",
                "    npv_SP500_payments = 0\n",
                "\n",
                "    i = 0  # which month bootstrap we are on\n",
                "    nominal_salary_index = 1\n",
                "    nominal_avg_salary_index = 1\n",
                "\n",
                "    # only used for NPV calculation, starts when loan is first paid out unlike the previous indices which start on first job\n",
                "    cpih_index = 1\n",
                "    sp500_index = 1\n",
                "\n",
                "    # income, adjusted on jan 01\n",
                "    monthly_income = base_yrly_salary / 12\n",
                "    lower_taxband_monthly_income = lower_taxband / 12\n",
                "    upper_taxband_monthly_income = upper_taxband / 12\n",
                "\n",
                "    # Whilst in University\n",
                "    debt = 0\n",
                "\n",
                "    for single_date in daterange1:\n",
                "        if single_date in (\"2021-10-20\", \"2022-02-02\", \"2022-10-19\", \"2023-02-01\", \"2023-10-18\", \"2024-01-31\", \"2024-10-17\", \"2025-01-30\"):\n",
                "            debt += .25 * 9250\n",
                "        if single_date in (\"2022-05-04\", \"2023-05-03\", \"2024-05-02\", \"2025-05-01\"):\n",
                "            debt += .5 * 9250\n",
                "\n",
                "        if single_date in (\"2021-10-05\", \"2022-01-18\", \"2022-04-26\", \"2022-10-04\", \"2023-01-17\", \"2023-04-25\", \"2023-10-03\", \"2024-01-16\", \"2024-04-24\", \"2024-10-02\", \"2025-01-15\", \"2025-04-23\"): #change first_payment if this is changed\n",
                "            debt += 4422/3\n",
                "        \n",
                "        interest = (bootstrap_sample[i, 2] + 0.03) ** (1 / 365) # bootstrap_sample[i, 2] is rpi from previous march\n",
                "        debt = debt * interest\n",
                "\n",
                "        if single_date[-2:] == '01':\n",
                "            cpih_index *= bootstrap_sample[i, 1]\n",
                "            sp500_index *= bootstrap_sample[i, 0]\n",
                "            i += 1\n",
                "\n",
                "    # After leaving University\n",
                "    for single_date in daterange2:\n",
                "        if single_date[-2:] == '01': \n",
                "            cpih_index *= bootstrap_sample[i, 1]\n",
                "            sp500_index *= bootstrap_sample[i, 0]\n",
                "        \n",
                "            if single_date[-5:-3] == '01': # if first of jan give pay raise\n",
                "                # nominal_salary_index *= real_salary_yronyr_growth * bootstrap_sample[i, 1]\n",
                "                # nominal_avg_salary_index *= real_avg_salary_yronyr_growth * bootstrap_sample[i, 1]\n",
                "                # # Real = Nominal / Price\n",
                "                # # Nominal (t + 1) = Real (t + 1) * Price (t + 1)\n",
                "                # # real_salary_yronyr_growth = Real(t + 1) / Real (t). Real(t + 1) - Real (t) / Real(t) =  Real(t + 1) / Real(t) - 1\n",
                "                # # Nominal (t + 1) = Nominal(t) * Real(t + 1) / Real (t) * Price(t + 1) / Price (t)\n",
                "\n",
                "                monthly_income *= real_salary_yronyr_growth * bootstrap_sample[i, 1]\n",
                "                lower_taxband_monthly_income *= real_avg_salary_yronyr_growth * bootstrap_sample[i, 1]\n",
                "                upper_taxband_monthly_income *= real_avg_salary_yronyr_growth * bootstrap_sample[i, 1]\n",
                "\n",
                "            repayment = monthly_repayment(monthly_income, lower_taxband_monthly_income)\n",
                "            i += 1\n",
                "        else:\n",
                "            repayment = 0\n",
                "\n",
                "        # interest is accrued daily whilst repayments are monthly so can't be inside previous if\n",
                "        interest = working_interest(monthly_income, lower_taxband_monthly_income, upper_taxband_monthly_income, bootstrap_sample[i, 2])\n",
                "\n",
                "        # if repayment > debt * interest\n",
                "        repayment = min(repayment, debt * interest)\n",
                "        debt = debt * interest - repayment\n",
                "\n",
                "        payments += repayment\n",
                "\n",
                "        npv_payments += repayment / cpih_index\n",
                "        npv_SP500_payments += repayment / sp500_index\n",
                "\n",
                "        if debt <= 0:\n",
                "            # print(single_date)\n",
                "            break\n",
                "\n",
                "    #print(\"payments: %s, NPV: %s, NPV SP500: %s\" %(payments, npv_payments, npv_SP500_payments))\n",
                "    #print(\".\", end = '')\n",
                "    return [payments, npv_payments, npv_SP500_payments]\n"
            ]
        },
        {
            "cell_type": "code",
            "execution_count": 9,
            "metadata": {},
            "outputs": [],
            "source": [
                "def run_simulation(bootstrap_samples, lower_taxband, upper_taxband, base_yrly_salary, real_salary_yronyr_growth, real_avg_salary_yronyr_growth, daterange1, daterange2, ParallelBool, cpus):\n",
                "    results = []\n",
                "\n",
                "    run_trial = partial(\n",
                "        sim_portfolio,\n",
                "        lower_taxband=lower_taxband,\n",
                "        upper_taxband = upper_taxband,\n",
                "        base_yrly_salary=base_yrly_salary,\n",
                "        real_salary_yronyr_growth=real_salary_yronyr_growth, \n",
                "        real_avg_salary_yronyr_growth=real_avg_salary_yronyr_growth,\n",
                "        daterange1=daterange1,  # check the end date\n",
                "        daterange2=daterange2,\n",
                "    )\n",
                "\n",
                "    if ParallelBool:\n",
                "        with Pool(cpus) as p:\n",
                "            for result in tqdm(p.imap_unordered(run_trial, bootstrap_samples), total=bootstrap_samples.shape[0]):\n",
                "                results.append(result)\n",
                "    else:\n",
                "        for each in bootstrap_samples:\n",
                "            results.append(run_trial(each))\n",
                "\n",
                "    return np.array(results)"
            ]
        },
        {
            "cell_type": "code",
            "execution_count": 10,
            "metadata": {},
            "outputs": [],
            "source": [
                "from numba import prange\n",
                "\n",
                "@njit(parallel=True)\n",
                "def run_simulation_numba(bootstrap_samples, lower_taxband, upper_taxband, base_yrly_salary, real_salary_yronyr_growth, real_avg_salary_yronyr_growth, daterange1, daterange2):\n",
                "    results = np.zeros((bootstrap_samples.shape[0], 3))\n",
                "\n",
                "    for i in prange(bootstrap_samples.shape[0]):\n",
                "        results[i] = sim_portfolio(bootstrap_samples[i], lower_taxband, upper_taxband, base_yrly_salary, real_salary_yronyr_growth, real_avg_salary_yronyr_growth, daterange1, daterange2)\n",
                "\n",
                "    return results"
            ]
        },
        {
            "cell_type": "code",
            "execution_count": 11,
            "metadata": {},
            "outputs": [],
            "source": [
                "\"\"\"\n",
                "base_yrly_salary:                           the yearly salary in the first year    \n",
                "real_salary_yronyr_growth_relative_to_avg:  Real wage growth compared to UK avergae   \n",
                "\"\"\"\n",
                "base_yrly_salary = 36000\n",
                "real_salary_yronyr_growth_relative_to_avg = 0.02 # should change so its relative to avg for uni graduates"
            ]
        },
        {
            "cell_type": "code",
            "execution_count": 12,
            "metadata": {},
            "outputs": [],
            "source": [
                "real_avg_salary_yronyr_growth = 1.01\n",
                "real_salary_yronyr_growth = real_avg_salary_yronyr_growth + real_salary_yronyr_growth_relative_to_avg\n",
                "\n",
                "real_salary_yronyr_growth = real_salary_yronyr_growth\n",
                "real_avg_salary_yronyr_growth = real_avg_salary_yronyr_growth\n",
                "\n",
                "lower_taxband = 27295\n",
                "upper_taxband = 49130\n",
                "\n",
                "# Day of first payment from student loan company to me, also day interest starts accruing\n",
                "first_payment = \"2021-10-05\"\n",
                "# check the end date !!!!!!!!!!!!!!!!!!!!!!!!!!!!!!!!!!!!!!!!!!!!!!!!!!!!!!!!!!!!!!!!!!!!!!!!!!!!!!!!!!!!!!!!!!!!!!!!!!!!!!!!!!!!!!!!!!!!!!!!\n",
                "# dates when I start paying back loan\n",
                "first_repayment = \"2026-04-05\"\n",
                "last_repayment = (pd.Timestamp(\"2026-04-05\") + pd.DateOffset(years = 30)).strftime(\"%Y-%m-%d\") # 30 years after first repayment\n",
                "\n",
                "daterange1 = [d.strftime(\"%Y-%m-%d\")\n",
                "              for d in pd.date_range(first_payment, first_repayment)]\n",
                "daterange2 = [d.strftime(\"%Y-%m-%d\")\n",
                "              for d in pd.date_range((pd.Timestamp(first_repayment) + pd.DateOffset(1)).strftime(\"%Y-%m-%d\"), last_repayment)]\n",
                "\n",
                "from numba.typed import List\n",
                "daterange1_numba = List(daterange1) # numba doens't like list of strings being passed to it, doubles in speed by this\n",
                "daterange2_numba = List(daterange2)"
            ]
        },
        {
            "cell_type": "code",
            "execution_count": 13,
            "metadata": {},
            "outputs": [
                {
                    "name": "stdout",
                    "output_type": "stream",
                    "text": [
                        "Generating bootstrap sample...\n"
                    ]
                }
            ],
            "source": [
                "start_date = pd.Timestamp(first_payment)\n",
                "end_date = pd.Timestamp(last_repayment)\n",
                "no_of_months = (end_date.year - start_date.year) * 12 + (end_date.month - start_date.month)\n",
                "\n",
                "print('Generating bootstrap sample...')\n",
                "bootstrap_samples = gen_bootstrap_samples(sp500_cpi_df, 100000, no_of_months, kind='stationary', block_length=17)\n",
                "# block length was 10 years in example, however that is almost all of the data\n",
                "# The block size is unfortunately a tuning parameter. The optimal stationary bootstrap block size for stocks and bonds was low, but it was over 10 years for cash-equivalent securities and inflation. Since the 'optimal' choice is calculated based on time-series dependence, I expect that there's more time dependence for cash and inflation. This could be related to the business cycle or 'regime-switching' behavior documented in the macro-econometrics lit (generally linked with monetary policy regimes). Anyways, knowing the optimal blocks size is hard, but I don't think it's too big of an issue to use 10yrs when the optimal length is more than 10 for some variables. Also, if the data really was independent, block bootstraps would work (should get results similar to iid bootstrap) but they would just be less efficient."
            ]
        },
        {
            "cell_type": "code",
            "execution_count": 14,
            "metadata": {},
            "outputs": [
                {
                    "name": "stdout",
                    "output_type": "stream",
                    "text": [
                        "Simulating...\n"
                    ]
                }
            ],
            "source": [
                "print('Simulating...')\n",
                "#results = run_simulation(bootstrap_samples, first_payment, lower_taxband, upper_taxband, base_yrly_salary, real_salary_yronyr_growth, real_avg_salary_yronyr_growth, daterange1, daterange2, 1, 8)\n",
                "results = run_simulation_numba(bootstrap_samples, lower_taxband, upper_taxband, base_yrly_salary, real_salary_yronyr_growth, real_avg_salary_yronyr_growth, daterange1_numba, daterange2_numba) # first run will take longer as numba has to compile btw"
            ]
        },
        {
            "cell_type": "code",
            "execution_count": 15,
            "metadata": {},
            "outputs": [
                {
                    "name": "stdout",
                    "output_type": "stream",
                    "text": [
                        "Plot...\n"
                    ]
                },
                {
                    "data": {
                        "image/png": "[encoded data removed]",
                        "text/plain": [
                            "<Figure size 432x288 with 1 Axes>"
                        ]
                    },
                    "metadata": {},
                    "output_type": "display_data"
                }
            ],
            "source": [
                "print('Plot...')\n",
                "#plt.hist(results[:, 2])\n",
                "S = results[:, 2]\n",
                "plt.hist(S, weights=np.ones_like(S) / len(S), bins=40)\n",
                "plt.ylabel(\"Probability of falling in the bin\")\n",
                "plt.xlabel(\"NPV wrt S&P 500 (£)\")\n",
                "plt.show() # not necessary, used to hide output of previous command"
            ]
        },
        {
            "cell_type": "code",
            "execution_count": 16,
            "metadata": {},
            "outputs": [
                {
                    "data": {
                        "image/png": "[encoded data removed]",
                        "text/plain": [
                            "<Figure size 432x288 with 1 Axes>"
                        ]
                    },
                    "metadata": {},
                    "output_type": "display_data"
                }
            ],
            "source": [
                "import matplotlib.ticker as ticker\n",
                "\n",
                "S = results[:, 2]\n",
                "\n",
                "fig, ax = plt.subplots(1,1)\n",
                "ax.plot(np.sort(S), np.linspace(1/len(S), 1, len(S)))\n",
                "plt.ylabel(\"Probability of $\\leq$\")\n",
                "plt.xlabel(\"NPV wrt S&P 500 (£)\")\n",
                "ax.yaxis.set_major_locator(ticker.MultipleLocator(0.1))\n",
                "plt.show() # hides some output"
            ]
        },
        {
            "cell_type": "code",
            "execution_count": 17,
            "metadata": {},
            "outputs": [
                {
                    "name": "stdout",
                    "output_type": "stream",
                    "text": [
                        "Plot...\n"
                    ]
                },
                {
                    "data": {
                        "image/png": "[encoded data removed]",
                        "text/plain": [
                            "<Figure size 432x288 with 1 Axes>"
                        ]
                    },
                    "metadata": {},
                    "output_type": "display_data"
                }
            ],
            "source": [
                "print('Plot...')\n",
                "#plt.hist(results[:, 2])\n",
                "S = results[:, 1]\n",
                "plt.hist(S, weights=np.ones_like(S) / len(S), bins=30)\n",
                "plt.ylabel(\"Probability of falling in the bin\")\n",
                "plt.xlabel(\"NPV wrt CPIH (£)\")\n",
                "plt.show() # not necessary, used to hide output of previous command"
            ]
        },
        {
            "cell_type": "code",
            "execution_count": 18,
            "metadata": {},
            "outputs": [
                {
                    "data": {
                        "image/png": "[encoded data removed]",
                        "text/plain": [
                            "<Figure size 432x288 with 1 Axes>"
                        ]
                    },
                    "metadata": {},
                    "output_type": "display_data"
                }
            ],
            "source": [
                "import matplotlib.ticker as ticker\n",
                "\n",
                "S = results[:, 1]\n",
                "\n",
                "fig, ax = plt.subplots(1,1)\n",
                "ax.plot(np.sort(S), np.linspace(1/len(S), 1, len(S)))\n",
                "plt.ylabel(\"Probability of $\\leq$\")\n",
                "plt.xlabel(\"NPV wrt CPIH (£)\")\n",
                "ax.yaxis.set_major_locator(ticker.MultipleLocator(0.1))\n",
                "plt.show() # hides some output"
            ]
        },
        {
            "cell_type": "code",
            "execution_count": 19,
            "metadata": {},
            "outputs": [
                {
                    "name": "stdout",
                    "output_type": "stream",
                    "text": [
                        "Plot...\n"
                    ]
                },
                {
                    "data": {
                        "image/png": "[encoded data removed]",
                        "text/plain": [
                            "<Figure size 432x288 with 1 Axes>"
                        ]
                    },
                    "metadata": {},
                    "output_type": "display_data"
                }
            ],
            "source": [
                "print('Plot...')\n",
                "#plt.hist(results[:, 2])\n",
                "S = results[:, 0]\n",
                "plt.hist(S, weights=np.ones_like(S) / len(S), bins=30)\n",
                "plt.ylabel(\"Probability of falling in the bin\")\n",
                "plt.xlabel(\"Total Repayment (£)\")\n",
                "plt.show() # not necessary, used to hide output of previous command"
            ]
        },
        {
            "cell_type": "code",
            "execution_count": 20,
            "metadata": {},
            "outputs": [
                {
                    "name": "stdout",
                    "output_type": "stream",
                    "text": [
                        "(OptimalBlockLength(b_star_sb=1.8638729733483752, b_star_cb=2.1336019389021117), OptimalBlockLength(b_star_sb=1.2104566707877087, b_star_cb=1.38562699104438), OptimalBlockLength(b_star_sb=17.069041760728357, b_star_cb=19.53917521024335))\n"
                    ]
                }
            ],
            "source": [
                "from recombinator.optimal_block_length import optimal_block_length\n",
                "b_star = optimal_block_length(np.array(sp500_cpi_df))\n",
                "print(b_star)"
            ]
        },
        {
            "cell_type": "markdown",
            "metadata": {},
            "source": []
        },
        {
            "cell_type": "markdown",
            "metadata": {},
            "source": [
                "100 runs | 1 (s) | 2 (s) | 3 (s)\n",
                "--- | --- | --- | ---\n",
                "jit multiprocessing pool (first 5s is setup) | 5.72 | 5.86 | 5.34\n",
                "jit no pool | 6.78 | 3.08 | 3.02 | 3.03\n",
                "\n",
                "1000 runs | 1 (s) | 2 (s) | 3 (s)\n",
                "--- | --- | --- | ---\n",
                "jit multiprocessing pool no gil (first 5s is setup) | 10.2 | 10.8\n",
                "jit multiprocessing pool no gil everywhere (first 5s is setup) | 10.4 | 10.1 \n",
                "jit multiprocessing pool (first 5s is setup) | 10.6 | 9.94 \n",
                "jit njit parallel | 0.255\n",
                "jit no pool | 31.1\n",
                "\n",
                "100000 runs | 1 (s) | 2 (s) | 3 (s)\n",
                "--- | --- | --- | ---\n",
                "jit njit parallel | 25 | 25.1\n",
                "jit njit parallel typed list | 11.3 | 11.8\n",
                "jit multiprocessing pool | 543.8"
            ]
        },
        {
            "cell_type": "markdown",
            "metadata": {},
            "source": []
        }
    ],
    "metadata": {
        "interpreter": {
            "hash": "1fba36e030b2a3a508af52da982846fbf28be62b370634867d2bea270fbd150f"
        },
        "kernelspec": {
            "display_name": "Python 3.8.8 64-bit ('base': conda)",
            "name": "python3"
        },
        "language_info": {
            "codemirror_mode": {
                "name": "ipython",
                "version": 3
            },
            "file_extension": ".py",
            "mimetype": "text/x-python",
            "name": "python",
            "nbconvert_exporter": "python",
            "pygments_lexer": "ipython3",
            "version": "3.9.6"
        },
        "orig_nbformat": 4
    },
    "nbformat": 4,
    "nbformat_minor": 2
}
