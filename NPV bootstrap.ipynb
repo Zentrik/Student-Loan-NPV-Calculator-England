{
    "cells": [
        {
            "cell_type": "code",
            "execution_count": 124,
            "source": [
                "import json\r\n",
                "import requests\r\n",
                "import pandas as pd\r\n",
                "import numpy as np\r\n",
                "import matplotlib.pyplot as plt\r\n",
                "import seaborn as sns\r\n",
                "import math\r\n",
                "from tqdm.auto import tqdm\r\n",
                "from multiprocessing import Pool\r\n",
                "from recombinator.iid_bootstrap import iid_bootstrap\r\n",
                "import recombinator.block_bootstrap as bb\r\n",
                "from recombinator.optimal_block_length import optimal_block_length\r\n",
                "from numba import njit\r\n",
                "from functools import partial\r\n",
                "import yfinance as yf\r\n",
                "import sys\r\n",
                "import os\r\n",
                "\r\n",
                "sns.set_style('whitegrid')\r\n",
                "sns.set_context(\"paper\", font_scale=1.7)\r\n"
            ],
            "outputs": [],
            "metadata": {}
        },
        {
            "cell_type": "code",
            "execution_count": 125,
            "source": [
                "url = 'https://www.ons.gov.uk/economy/inflationandpriceindices/timeseries/czbh/mm23/data'\r\n",
                "\r\n",
                "header = {\r\n",
                "  \"User-Agent\": \"Mozilla/5.0 (X11; Linux x86_64) AppleWebKit/537.36 (KHTML, like Gecko) Chrome/50.0.2661.75 Safari/537.36\",\r\n",
                "  \"X-Requested-With\": \"XMLHttpRequest\"\r\n",
                "}\r\n",
                "\r\n",
                "r = requests.get(url, headers=header)\r\n",
                "# https://stackoverflow.com/questions/43590153/http-error-403-forbidden-when-reading-html\r\n",
                "data = json.loads(r.text)\r\n",
                "rpi_yronyr_df = pd.json_normalize(data, record_path=['months'])\r\n",
                "#https://towardsdatascience.com/how-to-convert-json-into-a-pandas-dataframe-100b2ae1e0d8\r\n",
                "rpi_yronyr_df = rpi_yronyr_df[['date', 'value']].apply(pd.Series)\r\n",
                "rpi_yronyr_df['value'] = rpi_yronyr_df['value'].astype(float)\r\n",
                "rpi_yronyr_df['value'] = 1 + rpi_yronyr_df['value'] / 100\r\n",
                "\r\n",
                "rpi_yronyr_df['date'] = pd.to_datetime(rpi_yronyr_df['date'], format='%Y %b')\r\n",
                "rpi_yronyr_df = rpi_yronyr_df.set_index(['date'])\r\n",
                "\r\n",
                "# rpi_yronyr_df = rpi_yronyr_df[] # only keep march data\r\n",
                "rpi_yronyr_df.columns = ['rpi_yronyr']\r\n",
                "\r\n",
                "is_march = (rpi_yronyr_df.index.month == 3)\r\n",
                "j = -1\r\n",
                "to_drop = []\r\n",
                "for i in range(rpi_yronyr_df.shape[0]):\r\n",
                "  if is_march[i]:\r\n",
                "    j = i\r\n",
                "  elif j == -1:\r\n",
                "    to_drop.append(i)\r\n",
                "  else:\r\n",
                "    rpi_yronyr_df.iloc[i] = rpi_yronyr_df.iloc[j].values\r\n",
                "        \r\n",
                "rpi_yronyr_df.drop(index = rpi_yronyr_df.index[to_drop], inplace=True)\r\n",
                "\r\n",
                "rpi_yronyr_df.tail()"
            ],
            "outputs": [
                {
                    "output_type": "execute_result",
                    "data": {
                        "text/plain": [
                            "            rpi_yronyr\n",
                            "date                  \n",
                            "2021-02-01       1.026\n",
                            "2021-03-01       1.015\n",
                            "2021-04-01       1.015\n",
                            "2021-05-01       1.015\n",
                            "2021-06-01       1.015"
                        ],
                        "text/html": [
                            "<div>\n",
                            "<style scoped>\n",
                            "    .dataframe tbody tr th:only-of-type {\n",
                            "        vertical-align: middle;\n",
                            "    }\n",
                            "\n",
                            "    .dataframe tbody tr th {\n",
                            "        vertical-align: top;\n",
                            "    }\n",
                            "\n",
                            "    .dataframe thead th {\n",
                            "        text-align: right;\n",
                            "    }\n",
                            "</style>\n",
                            "<table border=\"1\" class=\"dataframe\">\n",
                            "  <thead>\n",
                            "    <tr style=\"text-align: right;\">\n",
                            "      <th></th>\n",
                            "      <th>rpi_yronyr</th>\n",
                            "    </tr>\n",
                            "    <tr>\n",
                            "      <th>date</th>\n",
                            "      <th></th>\n",
                            "    </tr>\n",
                            "  </thead>\n",
                            "  <tbody>\n",
                            "    <tr>\n",
                            "      <th>2021-02-01</th>\n",
                            "      <td>1.026</td>\n",
                            "    </tr>\n",
                            "    <tr>\n",
                            "      <th>2021-03-01</th>\n",
                            "      <td>1.015</td>\n",
                            "    </tr>\n",
                            "    <tr>\n",
                            "      <th>2021-04-01</th>\n",
                            "      <td>1.015</td>\n",
                            "    </tr>\n",
                            "    <tr>\n",
                            "      <th>2021-05-01</th>\n",
                            "      <td>1.015</td>\n",
                            "    </tr>\n",
                            "    <tr>\n",
                            "      <th>2021-06-01</th>\n",
                            "      <td>1.015</td>\n",
                            "    </tr>\n",
                            "  </tbody>\n",
                            "</table>\n",
                            "</div>"
                        ]
                    },
                    "metadata": {},
                    "execution_count": 125
                }
            ],
            "metadata": {}
        },
        {
            "cell_type": "code",
            "execution_count": 126,
            "source": [
                "url = 'https://www.ons.gov.uk/economy/inflationandpriceindices/timeseries/l59c/mm23/data'\r\n",
                "\r\n",
                "\r\n",
                "header = {\r\n",
                "    \"User-Agent\": \"Mozilla/5.0 (X11; Linux x86_64) AppleWebKit/537.36 (KHTML, like Gecko) Chrome/50.0.2661.75 Safari/537.36\",\r\n",
                "    \"X-Requested-With\": \"XMLHttpRequest\"\r\n",
                "}\r\n",
                "\r\n",
                "r = requests.get(url, headers=header)\r\n",
                "# https://stackoverflow.com/questions/43590153/http-error-403-forbidden-when-reading-html\r\n",
                "data = json.loads(r.text)\r\n",
                "cpih_mnthonmnth_df = pd.json_normalize(data, record_path=['months'])\r\n",
                "# https://towardsdatascience.com/how-to-convert-json-into-a-pandas-dataframe-100b2ae1e0d8\r\n",
                "cpih_mnthonmnth_df = cpih_mnthonmnth_df[['date', 'value']].apply(pd.Series)\r\n",
                "cpih_mnthonmnth_df['value'] = cpih_mnthonmnth_df['value'].astype(float)\r\n",
                "cpih_mnthonmnth_df['value'] = 1 + cpih_mnthonmnth_df['value'] / 100\r\n",
                "\r\n",
                "# https://stackoverflow.com/questions/65612231/convert-string-month-year-to-datetime-in-pandas-dataframe\r\n",
                "\r\n",
                "cpih_mnthonmnth_df['date'] = pd.to_datetime(\r\n",
                "    cpih_mnthonmnth_df['date'], format='%Y %b')\r\n",
                "cpih_mnthonmnth_df = cpih_mnthonmnth_df.set_index(['date'])\r\n",
                "\r\n",
                "cpih_mnthonmnth_df.columns = ['cpih_mnthonmnth']\r\n",
                "\r\n",
                "cpih_mnthonmnth_df.tail()\r\n"
            ],
            "outputs": [
                {
                    "output_type": "execute_result",
                    "data": {
                        "text/plain": [
                            "            cpih_mnthonmnth\n",
                            "date                       \n",
                            "2021-02-01            1.001\n",
                            "2021-03-01            1.002\n",
                            "2021-04-01            1.007\n",
                            "2021-05-01            1.005\n",
                            "2021-06-01            1.004"
                        ],
                        "text/html": [
                            "<div>\n",
                            "<style scoped>\n",
                            "    .dataframe tbody tr th:only-of-type {\n",
                            "        vertical-align: middle;\n",
                            "    }\n",
                            "\n",
                            "    .dataframe tbody tr th {\n",
                            "        vertical-align: top;\n",
                            "    }\n",
                            "\n",
                            "    .dataframe thead th {\n",
                            "        text-align: right;\n",
                            "    }\n",
                            "</style>\n",
                            "<table border=\"1\" class=\"dataframe\">\n",
                            "  <thead>\n",
                            "    <tr style=\"text-align: right;\">\n",
                            "      <th></th>\n",
                            "      <th>cpih_mnthonmnth</th>\n",
                            "    </tr>\n",
                            "    <tr>\n",
                            "      <th>date</th>\n",
                            "      <th></th>\n",
                            "    </tr>\n",
                            "  </thead>\n",
                            "  <tbody>\n",
                            "    <tr>\n",
                            "      <th>2021-02-01</th>\n",
                            "      <td>1.001</td>\n",
                            "    </tr>\n",
                            "    <tr>\n",
                            "      <th>2021-03-01</th>\n",
                            "      <td>1.002</td>\n",
                            "    </tr>\n",
                            "    <tr>\n",
                            "      <th>2021-04-01</th>\n",
                            "      <td>1.007</td>\n",
                            "    </tr>\n",
                            "    <tr>\n",
                            "      <th>2021-05-01</th>\n",
                            "      <td>1.005</td>\n",
                            "    </tr>\n",
                            "    <tr>\n",
                            "      <th>2021-06-01</th>\n",
                            "      <td>1.004</td>\n",
                            "    </tr>\n",
                            "  </tbody>\n",
                            "</table>\n",
                            "</div>"
                        ]
                    },
                    "metadata": {},
                    "execution_count": 126
                }
            ],
            "metadata": {}
        },
        {
            "cell_type": "code",
            "execution_count": 127,
            "source": [
                "sp500 = yf.Ticker(\"IGUS.L\")\r\n",
                "hist = sp500.history(period=\"max\", interval=\"1mo\")\r\n",
                "SP500_daily_returns = hist['Close'].to_frame()\r\n",
                "SP500_daily_returns.columns = ['SP500_daily']\r\n",
                "\r\n",
                "SP500_daily_returns\r\n"
            ],
            "outputs": [
                {
                    "output_type": "execute_result",
                    "data": {
                        "text/plain": [
                            "            SP500_daily\n",
                            "Date                   \n",
                            "2010-10-01       2580.0\n",
                            "2010-11-01       2588.0\n",
                            "2010-12-01       2758.0\n",
                            "2011-01-01       2811.0\n",
                            "2011-02-01       2908.5\n",
                            "...                 ...\n",
                            "2021-04-01       9543.0\n",
                            "2021-05-01       9620.0\n",
                            "2021-06-01       9822.0\n",
                            "2021-07-01       9866.5\n",
                            "2021-07-21       9950.0\n",
                            "\n",
                            "[131 rows x 1 columns]"
                        ],
                        "text/html": [
                            "<div>\n",
                            "<style scoped>\n",
                            "    .dataframe tbody tr th:only-of-type {\n",
                            "        vertical-align: middle;\n",
                            "    }\n",
                            "\n",
                            "    .dataframe tbody tr th {\n",
                            "        vertical-align: top;\n",
                            "    }\n",
                            "\n",
                            "    .dataframe thead th {\n",
                            "        text-align: right;\n",
                            "    }\n",
                            "</style>\n",
                            "<table border=\"1\" class=\"dataframe\">\n",
                            "  <thead>\n",
                            "    <tr style=\"text-align: right;\">\n",
                            "      <th></th>\n",
                            "      <th>SP500_daily</th>\n",
                            "    </tr>\n",
                            "    <tr>\n",
                            "      <th>Date</th>\n",
                            "      <th></th>\n",
                            "    </tr>\n",
                            "  </thead>\n",
                            "  <tbody>\n",
                            "    <tr>\n",
                            "      <th>2010-10-01</th>\n",
                            "      <td>2580.0</td>\n",
                            "    </tr>\n",
                            "    <tr>\n",
                            "      <th>2010-11-01</th>\n",
                            "      <td>2588.0</td>\n",
                            "    </tr>\n",
                            "    <tr>\n",
                            "      <th>2010-12-01</th>\n",
                            "      <td>2758.0</td>\n",
                            "    </tr>\n",
                            "    <tr>\n",
                            "      <th>2011-01-01</th>\n",
                            "      <td>2811.0</td>\n",
                            "    </tr>\n",
                            "    <tr>\n",
                            "      <th>2011-02-01</th>\n",
                            "      <td>2908.5</td>\n",
                            "    </tr>\n",
                            "    <tr>\n",
                            "      <th>...</th>\n",
                            "      <td>...</td>\n",
                            "    </tr>\n",
                            "    <tr>\n",
                            "      <th>2021-04-01</th>\n",
                            "      <td>9543.0</td>\n",
                            "    </tr>\n",
                            "    <tr>\n",
                            "      <th>2021-05-01</th>\n",
                            "      <td>9620.0</td>\n",
                            "    </tr>\n",
                            "    <tr>\n",
                            "      <th>2021-06-01</th>\n",
                            "      <td>9822.0</td>\n",
                            "    </tr>\n",
                            "    <tr>\n",
                            "      <th>2021-07-01</th>\n",
                            "      <td>9866.5</td>\n",
                            "    </tr>\n",
                            "    <tr>\n",
                            "      <th>2021-07-21</th>\n",
                            "      <td>9950.0</td>\n",
                            "    </tr>\n",
                            "  </tbody>\n",
                            "</table>\n",
                            "<p>131 rows × 1 columns</p>\n",
                            "</div>"
                        ]
                    },
                    "metadata": {},
                    "execution_count": 127
                }
            ],
            "metadata": {}
        },
        {
            "cell_type": "code",
            "execution_count": 128,
            "source": [
                "sp500_cpi_df = SP500_daily_returns.pct_change()[1:]\r\n",
                "sp500_cpi_df['SP500_daily'] = sp500_cpi_df['SP500_daily'] + 1\r\n",
                "\r\n",
                "sp500_cpi_df = sp500_cpi_df.merge(\r\n",
                "    cpih_mnthonmnth_df, left_index=True, right_index=True)\r\n",
                "\r\n",
                "sp500_cpi_df = sp500_cpi_df.merge(\r\n",
                "    rpi_yronyr_df, left_index=True, right_index=True)\r\n",
                "\r\n",
                "sp500_cpi_df"
            ],
            "outputs": [
                {
                    "output_type": "execute_result",
                    "data": {
                        "text/plain": [
                            "            SP500_daily  cpih_mnthonmnth  rpi_yronyr\n",
                            "2010-11-01     1.003101            1.003       1.044\n",
                            "2010-12-01     1.065688            1.008       1.044\n",
                            "2011-01-01     1.019217            1.001       1.044\n",
                            "2011-02-01     1.034685            1.006       1.044\n",
                            "2011-03-01     1.001719            1.003       1.053\n",
                            "...                 ...              ...         ...\n",
                            "2021-02-01     1.024400            1.001       1.026\n",
                            "2021-03-01     1.041497            1.002       1.015\n",
                            "2021-04-01     1.051802            1.007       1.015\n",
                            "2021-05-01     1.008069            1.005       1.015\n",
                            "2021-06-01     1.020998            1.004       1.015\n",
                            "\n",
                            "[128 rows x 3 columns]"
                        ],
                        "text/html": [
                            "<div>\n",
                            "<style scoped>\n",
                            "    .dataframe tbody tr th:only-of-type {\n",
                            "        vertical-align: middle;\n",
                            "    }\n",
                            "\n",
                            "    .dataframe tbody tr th {\n",
                            "        vertical-align: top;\n",
                            "    }\n",
                            "\n",
                            "    .dataframe thead th {\n",
                            "        text-align: right;\n",
                            "    }\n",
                            "</style>\n",
                            "<table border=\"1\" class=\"dataframe\">\n",
                            "  <thead>\n",
                            "    <tr style=\"text-align: right;\">\n",
                            "      <th></th>\n",
                            "      <th>SP500_daily</th>\n",
                            "      <th>cpih_mnthonmnth</th>\n",
                            "      <th>rpi_yronyr</th>\n",
                            "    </tr>\n",
                            "  </thead>\n",
                            "  <tbody>\n",
                            "    <tr>\n",
                            "      <th>2010-11-01</th>\n",
                            "      <td>1.003101</td>\n",
                            "      <td>1.003</td>\n",
                            "      <td>1.044</td>\n",
                            "    </tr>\n",
                            "    <tr>\n",
                            "      <th>2010-12-01</th>\n",
                            "      <td>1.065688</td>\n",
                            "      <td>1.008</td>\n",
                            "      <td>1.044</td>\n",
                            "    </tr>\n",
                            "    <tr>\n",
                            "      <th>2011-01-01</th>\n",
                            "      <td>1.019217</td>\n",
                            "      <td>1.001</td>\n",
                            "      <td>1.044</td>\n",
                            "    </tr>\n",
                            "    <tr>\n",
                            "      <th>2011-02-01</th>\n",
                            "      <td>1.034685</td>\n",
                            "      <td>1.006</td>\n",
                            "      <td>1.044</td>\n",
                            "    </tr>\n",
                            "    <tr>\n",
                            "      <th>2011-03-01</th>\n",
                            "      <td>1.001719</td>\n",
                            "      <td>1.003</td>\n",
                            "      <td>1.053</td>\n",
                            "    </tr>\n",
                            "    <tr>\n",
                            "      <th>...</th>\n",
                            "      <td>...</td>\n",
                            "      <td>...</td>\n",
                            "      <td>...</td>\n",
                            "    </tr>\n",
                            "    <tr>\n",
                            "      <th>2021-02-01</th>\n",
                            "      <td>1.024400</td>\n",
                            "      <td>1.001</td>\n",
                            "      <td>1.026</td>\n",
                            "    </tr>\n",
                            "    <tr>\n",
                            "      <th>2021-03-01</th>\n",
                            "      <td>1.041497</td>\n",
                            "      <td>1.002</td>\n",
                            "      <td>1.015</td>\n",
                            "    </tr>\n",
                            "    <tr>\n",
                            "      <th>2021-04-01</th>\n",
                            "      <td>1.051802</td>\n",
                            "      <td>1.007</td>\n",
                            "      <td>1.015</td>\n",
                            "    </tr>\n",
                            "    <tr>\n",
                            "      <th>2021-05-01</th>\n",
                            "      <td>1.008069</td>\n",
                            "      <td>1.005</td>\n",
                            "      <td>1.015</td>\n",
                            "    </tr>\n",
                            "    <tr>\n",
                            "      <th>2021-06-01</th>\n",
                            "      <td>1.020998</td>\n",
                            "      <td>1.004</td>\n",
                            "      <td>1.015</td>\n",
                            "    </tr>\n",
                            "  </tbody>\n",
                            "</table>\n",
                            "<p>128 rows × 3 columns</p>\n",
                            "</div>"
                        ]
                    },
                    "metadata": {},
                    "execution_count": 128
                }
            ],
            "metadata": {}
        },
        {
            "cell_type": "code",
            "execution_count": 129,
            "source": [
                "@njit()\r\n",
                "def monthly_income(base_yrly_salary, nominal_salary_index):\r\n",
                "    # Need to adjust so that salary adjusts yearly.\r\n",
                "    return base_yrly_salary / 12 * nominal_salary_index\r\n",
                "\r\n",
                "\r\n",
                "@njit()\r\n",
                "def taxband_monthly_income(nominal_avg_salary_index, monthly_band):\r\n",
                "    # Need to adjust so that salary adjusts yearly.\r\n",
                "    return monthly_band * nominal_avg_salary_index\r\n",
                "\r\n",
                "\r\n",
                "@njit()\r\n",
                "def monthly_repayment(nominal_avg_salary_index, lower_taxband, base_yrly_salary, nominal_salary_index):\r\n",
                "    delta_income = monthly_income(base_yrly_salary, nominal_salary_index) - \\\r\n",
                "        taxband_monthly_income(nominal_avg_salary_index, lower_taxband)\r\n",
                "    if delta_income > 0:\r\n",
                "        return delta_income * 0.09\r\n",
                "    else:\r\n",
                "        return 0\r\n",
                "\r\n",
                "\r\n",
                "@njit()\r\n",
                "def working_interest(nominal_avg_salary_index, lower_taxband, base_yrly_salary, nominal_salary_index, rpi):\r\n",
                "    income = monthly_income(base_yrly_salary, nominal_salary_index)\r\n",
                "    bottom_band = taxband_monthly_income(\r\n",
                "        nominal_avg_salary_index, lower_taxband)\r\n",
                "    upper_band = taxband_monthly_income(\r\n",
                "        nominal_avg_salary_index, lower_taxband)\r\n",
                "\r\n",
                "    delta_income = income - bottom_band\r\n",
                "    if delta_income > 0:\r\n",
                "        if income > upper_band:\r\n",
                "            # daily interest rate from annual interest rate\r\n",
                "            return (rpi + 0.03) ** (1 / 365)\r\n",
                "        else:\r\n",
                "            # linear interpolation with 0% at 27295 and 3% at 49130\r\n",
                "            return (rpi + delta_income / (upper_band - bottom_band) * 0.03) ** (1 / 365)\r\n",
                "    else:\r\n",
                "        return 1\r\n"
            ],
            "outputs": [],
            "metadata": {}
        },
        {
            "cell_type": "code",
            "execution_count": 130,
            "source": [
                "# https://www.reddit.com/r/badeconomics/comments/k9g348/what_vanguard_wont_tell_you/\r\n",
                "def gen_bootstrap_samples(returns_df, bootstrap_replications, no_of_months, kind, block_length=10):\r\n",
                "    # Generate bootstrap samples\r\n",
                "\r\n",
                "    if kind == \"iid\":\r\n",
                "        bootstrap_samples = iid_bootstrap(\r\n",
                "            np.array(returns_df),\r\n",
                "            replications=bootstrap_replications,\r\n",
                "            sub_sample_length=no_of_months,\r\n",
                "        )\r\n",
                "    elif kind == \"stationary\":\r\n",
                "        bootstrap_samples = bb.stationary_bootstrap(\r\n",
                "            np.array(returns_df),\r\n",
                "            block_length=block_length,\r\n",
                "            replications=bootstrap_replications,\r\n",
                "            sub_sample_length=no_of_months,\r\n",
                "        )\r\n",
                "    else:\r\n",
                "        raise Exception(f'Unknown bootstrap type: {kind}')\r\n",
                "\r\n",
                "    return bootstrap_samples\r\n"
            ],
            "outputs": [],
            "metadata": {}
        },
        {
            "cell_type": "code",
            "execution_count": 131,
            "source": [
                "@njit()\r\n",
                "def sim_portfolio(bootstrap_sample, first_payment, lower_taxband, base_yrly_salary, real_salary_mnthonmnth_growth, real_avg_salary_mnthonmnth_growth, daterange1, daterange2):\r\n",
                "    payments = 0\r\n",
                "    npv_payments = 0\r\n",
                "    npv_SP500_payments = 0\r\n",
                "\r\n",
                "    i = 0  # which month bootstrap we are on\r\n",
                "    nominal_salary_index = 1\r\n",
                "    nominal_avg_salary_index = 1\r\n",
                "\r\n",
                "    # only used for NPV calculation, starts when loan is first paid out unlike the previous indices which start on first job\r\n",
                "    cpih_index = 1\r\n",
                "    sp500_index = 1\r\n",
                "\r\n",
                "    # Whilst in University\r\n",
                "    debt = 0\r\n",
                "\r\n",
                "    for single_date in daterange1:\r\n",
                "        if single_date in (first_payment, \"2022-02-02\", \"2022-10-19\", \"2023-02-01\", \"2023-10-18\", \"2024-01-31\", \"2024-10-17\", \"2025-01-30\"):\r\n",
                "            debt += 4422/3 + .25 * 9250\r\n",
                "        if single_date in (\"2022-05-04\", \"2023-05-03\", \"2024-05-02\", \"2025-05-01\"):\r\n",
                "            debt += 4422/3 + .5 * 9250\r\n",
                "        \r\n",
                "        interest = (bootstrap_sample[i, 2] + 0.03) ** (1 / 365) # bootstrap_sample[i, 2] is rpi from previous march\r\n",
                "        debt = debt * interest\r\n",
                "\r\n",
                "        if single_date[-2:] == '01':\r\n",
                "            cpih_index *= bootstrap_sample[i, 1]\r\n",
                "            sp500_index *= bootstrap_sample[i, 0]\r\n",
                "            i += 1\r\n",
                "\r\n",
                "    # After leaving University\r\n",
                "    for single_date in daterange2:\r\n",
                "        if single_date[-2:] == '01':\r\n",
                "            nominal_salary_index *= real_salary_mnthonmnth_growth * bootstrap_sample[i, 1]\r\n",
                "            nominal_avg_salary_index *= real_avg_salary_mnthonmnth_growth * bootstrap_sample[i, 1]\r\n",
                "            # Real = Nominal / Price\r\n",
                "            # Nominal (t + 1) = Real (t + 1) * Price (t + 1)\r\n",
                "            # real_salary_mnthonmnth_growth = Real(t + 1) / Real (t). Real(t + 1) - Real (t) / Real(t) =  Real(t + 1) / Real(t) - 1\r\n",
                "            # Nominal (t + 1) = Nominal(t) * Real(t + 1) / Real (t) * Price(t + 1) / Price (t)\r\n",
                "            \r\n",
                "            cpih_index *= bootstrap_sample[i, 1]\r\n",
                "            sp500_index *= bootstrap_sample[i, 0]\r\n",
                "            \r\n",
                "            repayment = monthly_repayment(\r\n",
                "                nominal_avg_salary_index, lower_taxband, base_yrly_salary, nominal_salary_index)\r\n",
                "            i += 1\r\n",
                "        else:\r\n",
                "            repayment = 0\r\n",
                "\r\n",
                "        # interest is accrued daily whilst repayments are monthly so can't be inside previous if\r\n",
                "        interest = working_interest(\r\n",
                "            nominal_avg_salary_index, lower_taxband, base_yrly_salary, nominal_salary_index, bootstrap_sample[i, 2])\r\n",
                "\r\n",
                "        # if repayment > debt * interest\r\n",
                "        repayment = min(repayment, debt * interest)\r\n",
                "        debt = debt * interest - repayment\r\n",
                "\r\n",
                "        payments += repayment\r\n",
                "\r\n",
                "        npv_payments += repayment / cpih_index\r\n",
                "        npv_SP500_payments += repayment / sp500_index\r\n",
                "\r\n",
                "        if debt <= 0:\r\n",
                "            # print(single_date)\r\n",
                "            break\r\n",
                "\r\n",
                "    #print(\"payments: %s, NPV: %s, NPV SP500: %s\" %(payments, npv_payments, npv_SP500_payments))\r\n",
                "    #print(\".\", end = '')\r\n",
                "    return [payments, npv_payments, npv_SP500_payments]\r\n"
            ],
            "outputs": [],
            "metadata": {}
        },
        {
            "cell_type": "code",
            "execution_count": 132,
            "source": [
                "def run_simulation(bootstrap_samples, first_payment, lower_taxband, base_yrly_salary, real_salary_mnthonmnth_growth, real_avg_salary_mnthonmnth_growth, daterange1, daterange2, ParallelBool, cpus):\r\n",
                "    results = []\r\n",
                "\r\n",
                "    run_trial = partial(\r\n",
                "        sim_portfolio,\r\n",
                "        first_payment=first_payment,\r\n",
                "        lower_taxband=lower_taxband,\r\n",
                "        base_yrly_salary=base_yrly_salary,\r\n",
                "        real_salary_mnthonmnth_growth=real_salary_mnthonmnth_growth, real_avg_salary_mnthonmnth_growth=real_avg_salary_mnthonmnth_growth,\r\n",
                "        daterange1=daterange1,  # check the end date\r\n",
                "        daterange2=daterange2,\r\n",
                "    )\r\n",
                "\r\n",
                "    if ParallelBool:\r\n",
                "        with Pool(cpus) as p:\r\n",
                "            for result in tqdm(p.imap_unordered(run_trial, bootstrap_samples), total=bootstrap_samples.shape[0]):\r\n",
                "                results.append(result)\r\n",
                "    else:\r\n",
                "        for each in bootstrap_samples:\r\n",
                "            results.append(run_trial(each))\r\n",
                "\r\n",
                "    return np.array(results)"
            ],
            "outputs": [],
            "metadata": {}
        },
        {
            "cell_type": "code",
            "execution_count": 133,
            "source": [
                "from numba import prange\r\n",
                "\r\n",
                "@njit(parallel=True)\r\n",
                "def run_simulation_numba(bootstrap_samples, first_payment, lower_taxband, base_yrly_salary, real_salary_mnthonmnth_growth, real_avg_salary_mnthonmnth_growth, daterange1, daterange2):\r\n",
                "    results = np.zeros((bootstrap_samples.shape[0], 3))\r\n",
                "\r\n",
                "    for i in prange(bootstrap_samples.shape[0]):\r\n",
                "        results[i] = sim_portfolio(bootstrap_samples[i], first_payment, lower_taxband, base_yrly_salary, real_salary_mnthonmnth_growth, real_avg_salary_mnthonmnth_growth, daterange1, daterange2)\r\n",
                "\r\n",
                "    return results"
            ],
            "outputs": [],
            "metadata": {}
        },
        {
            "cell_type": "code",
            "execution_count": 134,
            "source": [
                "\"\"\"\r\n",
                "returns_df:           the dataframe of sp500 and cpi monthly percentage change from previous month\r\n",
                "base_yrly_salary:     the yearly salary in the first year         \r\n",
                "\"\"\"\r\n",
                "base_yrly_salary = 30000\r\n",
                "real_salary_yronyr_growth = 1.02\r\n",
                "real_avg_salary_yronyr_growth = 1.01\r\n",
                "\r\n",
                "real_salary_mnthonmnth_growth = real_salary_yronyr_growth ** (1 / 12)\r\n",
                "real_avg_salary_mnthonmnth_growth = real_avg_salary_yronyr_growth ** (1 / 12)\r\n",
                "lower_taxband = 27295 / 12\r\n",
                "upper_taxband = 49130/12\r\n",
                "# Day of first payment from student loan company to me, also day interest starts accruing\r\n",
                "first_payment = \"2021-10-20\"\r\n",
                "last_repayment = \"2056-04-05\"\r\n",
                "start_date = pd.Timestamp(first_payment)\r\n",
                "end_date = pd.Timestamp(last_repayment)\r\n",
                "no_of_months = (end_date.year - start_date.year) * \\\r\n",
                "    12 + (end_date.month - start_date.month)\r\n",
                "\r\n",
                "# check the end date\r\n",
                "daterange1 = [d.strftime(\"%Y-%m-%d\")\r\n",
                "              for d in pd.date_range(first_payment, \"2026-04-05\")]\r\n",
                "daterange2 = [d.strftime(\"%Y-%m-%d\")\r\n",
                "              for d in pd.date_range(\"2026-04-06\", last_repayment)]\r\n",
                "\r\n",
                "from numba.typed import List\r\n",
                "daterange1_numba = List(daterange1)\r\n",
                "daterange2_numba = List(daterange2)"
            ],
            "outputs": [],
            "metadata": {}
        },
        {
            "cell_type": "code",
            "execution_count": 135,
            "source": [
                "print('Generating bootstrap sample...')\r\n",
                "bootstrap_samples = gen_bootstrap_samples(\r\n",
                "    sp500_cpi_df, 100000, no_of_months, kind='stationary', block_length=2)\r\n",
                "# block length was 10 years in example, however that is almost all of the data\r\n",
                "# The block size is unfortunately a tuning parameter. The optimal stationary bootstrap block size for stocks and bonds was low, but it was over 10 years for cash-equivalent securities and inflation. Since the 'optimal' choice is calculated based on time-series dependence, I expect that there's more time dependence for cash and inflation. This could be related to the business cycle or 'regime-switching' behavior documented in the macro-econometrics lit (generally linked with monetary policy regimes). Anyways, knowing the optimal blocks size is hard, but I don't think it's too big of an issue to use 10yrs when the optimal length is more than 10 for some variables. Also, if the data really was independent, block bootstraps would work (should get results similar to iid bootstrap) but they would just be less efficient."
            ],
            "outputs": [
                {
                    "output_type": "stream",
                    "name": "stdout",
                    "text": [
                        "Generating bootstrap sample...\n"
                    ]
                }
            ],
            "metadata": {}
        },
        {
            "cell_type": "code",
            "execution_count": 136,
            "source": [
                "print('Simulating...')\r\n",
                "#results = run_simulation(bootstrap_samples, first_payment, lower_taxband, base_yrly_salary, real_salary_mnthonmnth_growth, real_avg_salary_mnthonmnth_growth, daterange1, daterange2, 1, 8)\r\n",
                "results = run_simulation_numba(bootstrap_samples, first_payment, lower_taxband, base_yrly_salary, real_salary_mnthonmnth_growth, real_avg_salary_mnthonmnth_growth, daterange1_numba, daterange2_numba)"
            ],
            "outputs": [
                {
                    "output_type": "stream",
                    "name": "stdout",
                    "text": [
                        "Simulating...\n"
                    ]
                }
            ],
            "metadata": {}
        },
        {
            "cell_type": "code",
            "execution_count": 145,
            "source": [
                "print('Plot...')\r\n",
                "#plt.hist(results[:, 2])\r\n",
                "S = results[:, 2]\r\n",
                "plt.hist(S, weights=np.ones_like(S) / len(S), bins=40)\r\n",
                "plt.ylabel(\"Probability of falling in the bin\")\r\n",
                "plt.xlabel(\"NPV wrt S&P 500 (£)\")\r\n",
                "plt.show() # not necessary, used to hide output of previous command"
            ],
            "outputs": [
                {
                    "output_type": "stream",
                    "name": "stdout",
                    "text": [
                        "Plot...\n"
                    ]
                },
                {
                    "output_type": "display_data",
                    "data": {
                        "text/plain": [
                            "<Figure size 432x288 with 1 Axes>"
                        ],
                        "image/png": "[encoded data removed]"
                    },
                    "metadata": {}
                }
            ],
            "metadata": {}
        },
        {
            "cell_type": "code",
            "execution_count": 161,
            "source": [
                "import matplotlib.ticker as ticker\r\n",
                "\r\n",
                "S = results[:, 2]\r\n",
                "\r\n",
                "fig, ax = plt.subplots(1,1)\r\n",
                "ax.plot(np.sort(S), np.linspace(1/len(S), 1, len(S)))\r\n",
                "plt.ylabel(\"Probability of $\\leq$\")\r\n",
                "plt.xlabel(\"NPV wrt S&P 500 (£)\")\r\n",
                "ax.yaxis.set_major_locator(ticker.MultipleLocator(0.1))\r\n",
                "plt.show() # hides some output"
            ],
            "outputs": [
                {
                    "output_type": "display_data",
                    "data": {
                        "text/plain": [
                            "<Figure size 432x288 with 1 Axes>"
                        ],
                        "image/png": "[encoded data removed]"
                    },
                    "metadata": {}
                }
            ],
            "metadata": {}
        },
        {
            "cell_type": "code",
            "execution_count": 141,
            "source": [
                "print('Plot...')\r\n",
                "#plt.hist(results[:, 2])\r\n",
                "S = results[:, 1]\r\n",
                "plt.hist(S, weights=np.ones_like(S) / len(S), bins=30)\r\n",
                "plt.ylabel(\"Probability of falling in the bin\")\r\n",
                "plt.xlabel(\"NPV wrt CPIH (£)\")\r\n",
                "plt.show() # not necessary, used to hide output of previous command"
            ],
            "outputs": [
                {
                    "output_type": "stream",
                    "name": "stdout",
                    "text": [
                        "Plot...\n"
                    ]
                },
                {
                    "output_type": "display_data",
                    "data": {
                        "text/plain": [
                            "<Figure size 432x288 with 1 Axes>"
                        ],
                        "image/png": "[encoded data removed]"
                    },
                    "metadata": {}
                }
            ],
            "metadata": {}
        },
        {
            "cell_type": "code",
            "execution_count": 142,
            "source": [
                "print('Plot...')\r\n",
                "#plt.hist(results[:, 2])\r\n",
                "S = results[:, 0]\r\n",
                "plt.hist(S, weights=np.ones_like(S) / len(S), bins=30)\r\n",
                "plt.ylabel(\"Probability of falling in the bin\")\r\n",
                "plt.xlabel(\"Total Repayment (£)\")\r\n",
                "plt.show() # not necessary, used to hide output of previous command"
            ],
            "outputs": [
                {
                    "output_type": "stream",
                    "name": "stdout",
                    "text": [
                        "Plot...\n"
                    ]
                },
                {
                    "output_type": "display_data",
                    "data": {
                        "text/plain": [
                            "<Figure size 432x288 with 1 Axes>"
                        ],
                        "image/png": "[encoded data removed]"
                    },
                    "metadata": {}
                }
            ],
            "metadata": {}
        },
        {
            "cell_type": "code",
            "execution_count": 138,
            "source": [
                "a = np.array([2.4000e-04, 3.5700e-03, 1.8850e-02, 6.2120e-02, 1.3271e-01,\r\n",
                "        1.9577e-01, 2.0879e-01, 1.5949e-01, 1.0199e-01, 5.8350e-02,\r\n",
                "        3.0470e-02, 1.4490e-02, 6.7900e-03, 3.4200e-03, 1.6800e-03,\r\n",
                "        6.1000e-04, 4.2000e-04, 1.6000e-04, 4.0000e-05, 4.0000e-05])\r\n",
                "np.sum(a)"
            ],
            "outputs": [
                {
                    "output_type": "execute_result",
                    "data": {
                        "text/plain": [
                            "1.0"
                        ]
                    },
                    "metadata": {},
                    "execution_count": 138
                }
            ],
            "metadata": {}
        },
        {
            "cell_type": "code",
            "execution_count": 139,
            "source": [
                "from recombinator.optimal_block_length import optimal_block_length\r\n",
                "b_star = optimal_block_length(np.array(sp500_cpi_df))\r\n",
                "print(b_star)"
            ],
            "outputs": [
                {
                    "output_type": "stream",
                    "name": "stdout",
                    "text": [
                        "(OptimalBlockLength(b_star_sb=1.6046181115701519, b_star_cb=1.8368292061733842), OptimalBlockLength(b_star_sb=1.9603170096280436, b_star_cb=2.244002800840778), OptimalBlockLength(b_star_sb=17.001670327274546, b_star_cb=19.462054170827543))\n"
                    ]
                }
            ],
            "metadata": {}
        },
        {
            "cell_type": "markdown",
            "source": [],
            "metadata": {}
        },
        {
            "cell_type": "markdown",
            "source": [
                "100 runs | 1 (s) | 2 (s) | 3 (s)\r\n",
                "--- | --- | --- | ---\r\n",
                "jit multiprocessing pool (first 5s is setup) | 5.72 | 5.86 | 5.34\r\n",
                "jit no pool | 6.78 | 3.08 | 3.02 | 3.03\r\n",
                "\r\n",
                "1000 runs | 1 (s) | 2 (s) | 3 (s)\r\n",
                "--- | --- | --- | ---\r\n",
                "jit multiprocessing pool no gil (first 5s is setup) | 10.2 | 10.8\r\n",
                "jit multiprocessing pool no gil everywhere (first 5s is setup) | 10.4 | 10.1 \r\n",
                "jit multiprocessing pool (first 5s is setup) | 10.6 | 9.94 \r\n",
                "jit njit parallel | 0.255\r\n",
                "jit no pool | 31.1\r\n",
                "\r\n",
                "100000 runs | 1 (s) | 2 (s) | 3 (s)\r\n",
                "--- | --- | --- | ---\r\n",
                "jit njit parallel | 25 | 25.1\r\n",
                "jit njit parallel typed list | 11.3 | 11.8\r\n",
                "jit multiprocessing pool | 543.8"
            ],
            "metadata": {}
        },
        {
            "cell_type": "markdown",
            "source": [],
            "metadata": {}
        }
    ],
    "metadata": {
        "orig_nbformat": 4,
        "language_info": {
            "name": "python",
            "version": "3.9.4",
            "mimetype": "text/x-python",
            "codemirror_mode": {
                "name": "ipython",
                "version": 3
            },
            "pygments_lexer": "ipython3",
            "nbconvert_exporter": "python",
            "file_extension": ".py"
        },
        "kernelspec": {
            "name": "python3",
            "display_name": "Python 3.9.4 64-bit ('base': conda)"
        },
        "interpreter": {
            "hash": "1fba36e030b2a3a508af52da982846fbf28be62b370634867d2bea270fbd150f"
        }
    },
    "nbformat": 4,
    "nbformat_minor": 2
}