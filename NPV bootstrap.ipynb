{
    "cells": [
        {
            "cell_type": "code",
            "execution_count": 158,
            "metadata": {},
            "outputs": [],
            "source": [
                "import json\n",
                "import requests\n",
                "import pandas as pd\n",
                "import numpy as np\n",
                "import matplotlib.pyplot as plt\n",
                "import matplotlib.ticker as ticker\n",
                "import seaborn as sns\n",
                "\n",
                "from recombinator.iid_bootstrap import iid_bootstrap\n",
                "import recombinator.block_bootstrap as bb\n",
                "from recombinator.optimal_block_length import optimal_block_length\n",
                "\n",
                "from numba import njit, prange, typed, types\n",
                "from numba.typed import List, Dict\n",
                "\n",
                "import yfinance as yf \n",
                "from fredapi import Fred\n",
                "\n",
                "import config # API keys\n",
                "\n",
                "sns.set_style('whitegrid')\n",
                "sns.set_context(\"paper\", font_scale=1.3)"
            ]
        },
        {
            "cell_type": "markdown",
            "metadata": {},
            "source": [
                "# Gathering Data"
            ]
        },
        {
            "cell_type": "code",
            "execution_count": 159,
            "metadata": {},
            "outputs": [],
            "source": [
                "def getData(url, column_name):\n",
                "\n",
                "    header = { # https://stackoverflow.com/questions/43590153/http-error-403-forbidden-when-reading-html\n",
                "    \"User-Agent\": \"Mozilla/5.0 (X11; Linux x86_64) AppleWebKit/537.36 (KHTML, like Gecko) Chrome/50.0.2661.75 Safari/537.36\",\n",
                "    \"X-Requested-With\": \"XMLHttpRequest\"\n",
                "    }\n",
                "\n",
                "    r = requests.get(url, headers=header)\n",
                "    data = json.loads(r.text)\n",
                "\n",
                "    data = pd.json_normalize(data, record_path=['months']) #https://towardsdatascience.com/how-to-convert-json-into-a-pandas-dataframe-100b2ae1e0d8\n",
                "    data = data[['date', 'value']].apply(pd.Series)\n",
                "    data['value'] = data['value'].astype(float)\n",
                "    data['value'] = 1 + data['value'] / 100\n",
                "\n",
                "    data['date'] = pd.to_datetime(data['date'], format='%Y %b')\n",
                "    data = data.set_index(['date'])\n",
                "\n",
                "    data.columns = [column_name]\n",
                "    return data"
            ]
        },
        {
            "cell_type": "code",
            "execution_count": 160,
            "metadata": {},
            "outputs": [
                {
                    "data": {
                        "text/html": [
                            "<div>\n",
                            "<style scoped>\n",
                            "    .dataframe tbody tr th:only-of-type {\n",
                            "        vertical-align: middle;\n",
                            "    }\n",
                            "\n",
                            "    .dataframe tbody tr th {\n",
                            "        vertical-align: top;\n",
                            "    }\n",
                            "\n",
                            "    .dataframe thead th {\n",
                            "        text-align: right;\n",
                            "    }\n",
                            "</style>\n",
                            "<table border=\"1\" class=\"dataframe\">\n",
                            "  <thead>\n",
                            "    <tr style=\"text-align: right;\">\n",
                            "      <th></th>\n",
                            "      <th>rpi_yronyr</th>\n",
                            "    </tr>\n",
                            "    <tr>\n",
                            "      <th>date</th>\n",
                            "      <th></th>\n",
                            "    </tr>\n",
                            "  </thead>\n",
                            "  <tbody>\n",
                            "    <tr>\n",
                            "      <th>1949-03-01</th>\n",
                            "      <td>1.023</td>\n",
                            "    </tr>\n",
                            "    <tr>\n",
                            "      <th>1949-04-01</th>\n",
                            "      <td>1.023</td>\n",
                            "    </tr>\n",
                            "    <tr>\n",
                            "      <th>1949-05-01</th>\n",
                            "      <td>1.023</td>\n",
                            "    </tr>\n",
                            "    <tr>\n",
                            "      <th>1949-06-01</th>\n",
                            "      <td>1.023</td>\n",
                            "    </tr>\n",
                            "    <tr>\n",
                            "      <th>1949-07-01</th>\n",
                            "      <td>1.023</td>\n",
                            "    </tr>\n",
                            "    <tr>\n",
                            "      <th>...</th>\n",
                            "      <td>...</td>\n",
                            "    </tr>\n",
                            "    <tr>\n",
                            "      <th>2021-09-01</th>\n",
                            "      <td>1.015</td>\n",
                            "    </tr>\n",
                            "    <tr>\n",
                            "      <th>2021-10-01</th>\n",
                            "      <td>1.015</td>\n",
                            "    </tr>\n",
                            "    <tr>\n",
                            "      <th>2021-11-01</th>\n",
                            "      <td>1.015</td>\n",
                            "    </tr>\n",
                            "    <tr>\n",
                            "      <th>2021-12-01</th>\n",
                            "      <td>1.015</td>\n",
                            "    </tr>\n",
                            "    <tr>\n",
                            "      <th>2022-01-01</th>\n",
                            "      <td>1.015</td>\n",
                            "    </tr>\n",
                            "  </tbody>\n",
                            "</table>\n",
                            "<p>875 rows × 1 columns</p>\n",
                            "</div>"
                        ],
                        "text/plain": [
                            "            rpi_yronyr\n",
                            "date                  \n",
                            "1949-03-01       1.023\n",
                            "1949-04-01       1.023\n",
                            "1949-05-01       1.023\n",
                            "1949-06-01       1.023\n",
                            "1949-07-01       1.023\n",
                            "...                ...\n",
                            "2021-09-01       1.015\n",
                            "2021-10-01       1.015\n",
                            "2021-11-01       1.015\n",
                            "2021-12-01       1.015\n",
                            "2022-01-01       1.015\n",
                            "\n",
                            "[875 rows x 1 columns]"
                        ]
                    },
                    "execution_count": 160,
                    "metadata": {},
                    "output_type": "execute_result"
                }
            ],
            "source": [
                "# RPI Year on Year data\n",
                "# Only care about march data for RPI so year on year\n",
                "\n",
                "rpi_yronyr_df = getData('https://www.ons.gov.uk/economy/inflationandpriceindices/timeseries/czbh/mm23/data', 'rpi_yronyr')\n",
                "\n",
                "# Set each month's RPI to the previous March's RPI\n",
                "is_march = (rpi_yronyr_df.index.month == 3) \n",
                "\n",
                "first_march = False\n",
                "to_drop = []\n",
                "for i in range(rpi_yronyr_df.shape[0]): # Can this use itertuples() instead?\n",
                "  if rpi_yronyr_df.iloc[i].name.month == 3: # If month is march\n",
                "    previous_march = rpi_yronyr_df.iloc[i].values\n",
                "    first_march = True\n",
                "  elif not first_march: # If first march has not occurred yet.\n",
                "    to_drop.append(i) # Drop outside of loop otherwise indexing will get messed up.\n",
                "  else:\n",
                "    rpi_yronyr_df.iloc[i] = previous_march\n",
                "        \n",
                "rpi_yronyr_df.drop(index = rpi_yronyr_df.index[to_drop], inplace=True)\n",
                "\n",
                "rpi_yronyr_df"
            ]
        },
        {
            "cell_type": "code",
            "execution_count": 161,
            "metadata": {},
            "outputs": [
                {
                    "data": {
                        "text/html": [
                            "<div>\n",
                            "<style scoped>\n",
                            "    .dataframe tbody tr th:only-of-type {\n",
                            "        vertical-align: middle;\n",
                            "    }\n",
                            "\n",
                            "    .dataframe tbody tr th {\n",
                            "        vertical-align: top;\n",
                            "    }\n",
                            "\n",
                            "    .dataframe thead th {\n",
                            "        text-align: right;\n",
                            "    }\n",
                            "</style>\n",
                            "<table border=\"1\" class=\"dataframe\">\n",
                            "  <thead>\n",
                            "    <tr style=\"text-align: right;\">\n",
                            "      <th></th>\n",
                            "      <th>cpih_mnthonmnth</th>\n",
                            "    </tr>\n",
                            "    <tr>\n",
                            "      <th>date</th>\n",
                            "      <th></th>\n",
                            "    </tr>\n",
                            "  </thead>\n",
                            "  <tbody>\n",
                            "    <tr>\n",
                            "      <th>1988-02-01</th>\n",
                            "      <td>1.003</td>\n",
                            "    </tr>\n",
                            "    <tr>\n",
                            "      <th>1988-03-01</th>\n",
                            "      <td>1.004</td>\n",
                            "    </tr>\n",
                            "    <tr>\n",
                            "      <th>1988-04-01</th>\n",
                            "      <td>1.013</td>\n",
                            "    </tr>\n",
                            "    <tr>\n",
                            "      <th>1988-05-01</th>\n",
                            "      <td>1.005</td>\n",
                            "    </tr>\n",
                            "    <tr>\n",
                            "      <th>1988-06-01</th>\n",
                            "      <td>1.003</td>\n",
                            "    </tr>\n",
                            "    <tr>\n",
                            "      <th>...</th>\n",
                            "      <td>...</td>\n",
                            "    </tr>\n",
                            "    <tr>\n",
                            "      <th>2021-09-01</th>\n",
                            "      <td>1.003</td>\n",
                            "    </tr>\n",
                            "    <tr>\n",
                            "      <th>2021-10-01</th>\n",
                            "      <td>1.009</td>\n",
                            "    </tr>\n",
                            "    <tr>\n",
                            "      <th>2021-11-01</th>\n",
                            "      <td>1.006</td>\n",
                            "    </tr>\n",
                            "    <tr>\n",
                            "      <th>2021-12-01</th>\n",
                            "      <td>1.005</td>\n",
                            "    </tr>\n",
                            "    <tr>\n",
                            "      <th>2022-01-01</th>\n",
                            "      <td>1.000</td>\n",
                            "    </tr>\n",
                            "  </tbody>\n",
                            "</table>\n",
                            "<p>408 rows × 1 columns</p>\n",
                            "</div>"
                        ],
                        "text/plain": [
                            "            cpih_mnthonmnth\n",
                            "date                       \n",
                            "1988-02-01            1.003\n",
                            "1988-03-01            1.004\n",
                            "1988-04-01            1.013\n",
                            "1988-05-01            1.005\n",
                            "1988-06-01            1.003\n",
                            "...                     ...\n",
                            "2021-09-01            1.003\n",
                            "2021-10-01            1.009\n",
                            "2021-11-01            1.006\n",
                            "2021-12-01            1.005\n",
                            "2022-01-01            1.000\n",
                            "\n",
                            "[408 rows x 1 columns]"
                        ]
                    },
                    "execution_count": 161,
                    "metadata": {},
                    "output_type": "execute_result"
                }
            ],
            "source": [
                "# Month on Month CPI data\n",
                "cpih_mnthonmnth_df = getData('https://www.ons.gov.uk/economy/inflationandpriceindices/timeseries/l59c/mm23/data', 'cpih_mnthonmnth')\n",
                "\n",
                "cpih_mnthonmnth_df"
            ]
        },
        {
            "cell_type": "code",
            "execution_count": 162,
            "metadata": {},
            "outputs": [
                {
                    "data": {
                        "text/html": [
                            "<div>\n",
                            "<style scoped>\n",
                            "    .dataframe tbody tr th:only-of-type {\n",
                            "        vertical-align: middle;\n",
                            "    }\n",
                            "\n",
                            "    .dataframe tbody tr th {\n",
                            "        vertical-align: top;\n",
                            "    }\n",
                            "\n",
                            "    .dataframe thead th {\n",
                            "        text-align: right;\n",
                            "    }\n",
                            "</style>\n",
                            "<table border=\"1\" class=\"dataframe\">\n",
                            "  <thead>\n",
                            "    <tr style=\"text-align: right;\">\n",
                            "      <th></th>\n",
                            "      <th>SP500TR_month_gbp_pct</th>\n",
                            "    </tr>\n",
                            "  </thead>\n",
                            "  <tbody>\n",
                            "    <tr>\n",
                            "      <th>1988-03-01</th>\n",
                            "      <td>0.929543</td>\n",
                            "    </tr>\n",
                            "    <tr>\n",
                            "      <th>1988-04-01</th>\n",
                            "      <td>0.986735</td>\n",
                            "    </tr>\n",
                            "    <tr>\n",
                            "      <th>1988-05-01</th>\n",
                            "      <td>1.013329</td>\n",
                            "    </tr>\n",
                            "    <tr>\n",
                            "      <th>1988-06-01</th>\n",
                            "      <td>1.100451</td>\n",
                            "    </tr>\n",
                            "    <tr>\n",
                            "      <th>1988-07-01</th>\n",
                            "      <td>1.038122</td>\n",
                            "    </tr>\n",
                            "    <tr>\n",
                            "      <th>...</th>\n",
                            "      <td>...</td>\n",
                            "    </tr>\n",
                            "    <tr>\n",
                            "      <th>2021-09-01</th>\n",
                            "      <td>0.958004</td>\n",
                            "    </tr>\n",
                            "    <tr>\n",
                            "      <th>2021-10-01</th>\n",
                            "      <td>1.072482</td>\n",
                            "    </tr>\n",
                            "    <tr>\n",
                            "      <th>2021-11-01</th>\n",
                            "      <td>1.010627</td>\n",
                            "    </tr>\n",
                            "    <tr>\n",
                            "      <th>2021-12-01</th>\n",
                            "      <td>1.057383</td>\n",
                            "    </tr>\n",
                            "    <tr>\n",
                            "      <th>2022-01-01</th>\n",
                            "      <td>0.930624</td>\n",
                            "    </tr>\n",
                            "  </tbody>\n",
                            "</table>\n",
                            "<p>407 rows × 1 columns</p>\n",
                            "</div>"
                        ],
                        "text/plain": [
                            "            SP500TR_month_gbp_pct\n",
                            "1988-03-01               0.929543\n",
                            "1988-04-01               0.986735\n",
                            "1988-05-01               1.013329\n",
                            "1988-06-01               1.100451\n",
                            "1988-07-01               1.038122\n",
                            "...                           ...\n",
                            "2021-09-01               0.958004\n",
                            "2021-10-01               1.072482\n",
                            "2021-11-01               1.010627\n",
                            "2021-12-01               1.057383\n",
                            "2022-01-01               0.930624\n",
                            "\n",
                            "[407 rows x 1 columns]"
                        ]
                    },
                    "execution_count": 162,
                    "metadata": {},
                    "output_type": "execute_result"
                }
            ],
            "source": [
                "# SP500 Total Return data\n",
                "\n",
                "# SP500 Total Return data in dollars (goes back further than in pounds)\n",
                "SP500TR = yf.Ticker(\"^SP500TR\").history(period = \"max\", interval=\"1mo\")['Close'].to_frame()\n",
                "\n",
                "# Fred has oldest data for exchange rate\n",
                "fred = Fred(api_key=config.fredKey)\n",
                "exchange = fred.get_series('EXUSUK').to_frame()\n",
                "exchange.columns = ['Close']\n",
                "exchange.dropna()\n",
                "exchange['Close'] = 1/exchange['Close'] \n",
                "\n",
                "SP500TR_month_gbp = SP500TR * exchange\n",
                "\n",
                "SP500TR_month_gbp = SP500TR_month_gbp.dropna()\n",
                "\n",
                "# Convert to percentage change in decimal (i.e. 10% ↦ 1.10)\n",
                "\n",
                "SP500TR_month_gbp_pct = SP500TR_month_gbp.pct_change()[1:]\n",
                "SP500TR_month_gbp_pct['Close'] = SP500TR_month_gbp_pct['Close'] + 1\n",
                "SP500TR_month_gbp_pct.columns = ['SP500TR_month_gbp_pct']\n",
                "SP500TR_month_gbp_pct = SP500TR_month_gbp_pct.dropna()\n",
                "\n",
                "SP500TR_month_gbp_pct"
            ]
        },
        {
            "cell_type": "code",
            "execution_count": 163,
            "metadata": {},
            "outputs": [
                {
                    "data": {
                        "text/html": [
                            "<div>\n",
                            "<style scoped>\n",
                            "    .dataframe tbody tr th:only-of-type {\n",
                            "        vertical-align: middle;\n",
                            "    }\n",
                            "\n",
                            "    .dataframe tbody tr th {\n",
                            "        vertical-align: top;\n",
                            "    }\n",
                            "\n",
                            "    .dataframe thead th {\n",
                            "        text-align: right;\n",
                            "    }\n",
                            "</style>\n",
                            "<table border=\"1\" class=\"dataframe\">\n",
                            "  <thead>\n",
                            "    <tr style=\"text-align: right;\">\n",
                            "      <th></th>\n",
                            "      <th>SP500TR_month_gbp_pct</th>\n",
                            "      <th>cpih_mnthonmnth</th>\n",
                            "      <th>rpi_yronyr</th>\n",
                            "    </tr>\n",
                            "  </thead>\n",
                            "  <tbody>\n",
                            "    <tr>\n",
                            "      <th>1988-03-01</th>\n",
                            "      <td>0.929543</td>\n",
                            "      <td>1.004</td>\n",
                            "      <td>1.035</td>\n",
                            "    </tr>\n",
                            "    <tr>\n",
                            "      <th>1988-04-01</th>\n",
                            "      <td>0.986735</td>\n",
                            "      <td>1.013</td>\n",
                            "      <td>1.035</td>\n",
                            "    </tr>\n",
                            "    <tr>\n",
                            "      <th>1988-05-01</th>\n",
                            "      <td>1.013329</td>\n",
                            "      <td>1.005</td>\n",
                            "      <td>1.035</td>\n",
                            "    </tr>\n",
                            "    <tr>\n",
                            "      <th>1988-06-01</th>\n",
                            "      <td>1.100451</td>\n",
                            "      <td>1.003</td>\n",
                            "      <td>1.035</td>\n",
                            "    </tr>\n",
                            "    <tr>\n",
                            "      <th>1988-07-01</th>\n",
                            "      <td>1.038122</td>\n",
                            "      <td>1.000</td>\n",
                            "      <td>1.035</td>\n",
                            "    </tr>\n",
                            "    <tr>\n",
                            "      <th>...</th>\n",
                            "      <td>...</td>\n",
                            "      <td>...</td>\n",
                            "      <td>...</td>\n",
                            "    </tr>\n",
                            "    <tr>\n",
                            "      <th>2021-09-01</th>\n",
                            "      <td>0.958004</td>\n",
                            "      <td>1.003</td>\n",
                            "      <td>1.015</td>\n",
                            "    </tr>\n",
                            "    <tr>\n",
                            "      <th>2021-10-01</th>\n",
                            "      <td>1.072482</td>\n",
                            "      <td>1.009</td>\n",
                            "      <td>1.015</td>\n",
                            "    </tr>\n",
                            "    <tr>\n",
                            "      <th>2021-11-01</th>\n",
                            "      <td>1.010627</td>\n",
                            "      <td>1.006</td>\n",
                            "      <td>1.015</td>\n",
                            "    </tr>\n",
                            "    <tr>\n",
                            "      <th>2021-12-01</th>\n",
                            "      <td>1.057383</td>\n",
                            "      <td>1.005</td>\n",
                            "      <td>1.015</td>\n",
                            "    </tr>\n",
                            "    <tr>\n",
                            "      <th>2022-01-01</th>\n",
                            "      <td>0.930624</td>\n",
                            "      <td>1.000</td>\n",
                            "      <td>1.015</td>\n",
                            "    </tr>\n",
                            "  </tbody>\n",
                            "</table>\n",
                            "<p>407 rows × 3 columns</p>\n",
                            "</div>"
                        ],
                        "text/plain": [
                            "            SP500TR_month_gbp_pct  cpih_mnthonmnth  rpi_yronyr\n",
                            "1988-03-01               0.929543            1.004       1.035\n",
                            "1988-04-01               0.986735            1.013       1.035\n",
                            "1988-05-01               1.013329            1.005       1.035\n",
                            "1988-06-01               1.100451            1.003       1.035\n",
                            "1988-07-01               1.038122            1.000       1.035\n",
                            "...                           ...              ...         ...\n",
                            "2021-09-01               0.958004            1.003       1.015\n",
                            "2021-10-01               1.072482            1.009       1.015\n",
                            "2021-11-01               1.010627            1.006       1.015\n",
                            "2021-12-01               1.057383            1.005       1.015\n",
                            "2022-01-01               0.930624            1.000       1.015\n",
                            "\n",
                            "[407 rows x 3 columns]"
                        ]
                    },
                    "execution_count": 163,
                    "metadata": {},
                    "output_type": "execute_result"
                }
            ],
            "source": [
                "# Merge CPI, RPI and SP500 data into one dataframe\n",
                "\n",
                "all_data = SP500TR_month_gbp_pct.merge(cpih_mnthonmnth_df, left_index=True, right_index=True) # merge cpi with sp500 wherever both have data for the same date.\n",
                "\n",
                "all_data = all_data.merge(rpi_yronyr_df, left_index=True, right_index=True) #merge and use indices as the keys, equivalent to .join( , how = \"inner\")\n",
                "\n",
                "all_data"
            ]
        },
        {
            "cell_type": "markdown",
            "metadata": {},
            "source": [
                "# Simulation"
            ]
        },
        {
            "cell_type": "code",
            "execution_count": 164,
            "metadata": {},
            "outputs": [],
            "source": [
                "@njit()\n",
                "def monthly_repayment(monthly_income, lower_taxband_monthly_income):\n",
                "    delta_income = monthly_income - lower_taxband_monthly_income\n",
                "    if delta_income > 0:\n",
                "        return delta_income * 0.09 # 9% marginal tax on monthly income above lower taxband\n",
                "    else:\n",
                "        return 0\n",
                "\n",
                "@njit()\n",
                "def working_interest(monthly_income, lower_taxband_monthly_income, upper_taxband_monthly_income, rpi):\n",
                "    income = monthly_income\n",
                "    bottom_band = lower_taxband_monthly_income\n",
                "    upper_band = upper_taxband_monthly_income\n",
                "\n",
                "    delta_income = income - bottom_band\n",
                "    if delta_income > 0:\n",
                "        annual_interest_rate = rpi + 0.03 * min(delta_income / (upper_band - bottom_band), 1) # Linear interpolation with 0% at 27295 and 3% at 49130 and constant otherwise.\n",
                "        # daily interest rate from annual interest rate\n",
                "        return annual_interest_rate ** (1 / 365)\n",
                "        # if income > upper_band:\n",
                "        #     # daily interest rate from annual interest rate\n",
                "        #     return (rpi + 0.03) ** (1 / 365)\n",
                "        # else:\n",
                "        #     # linear interpolation with 0% at 27295 and 3% at 49130 for annual interest rate\n",
                "        #     return (rpi + delta_income / (upper_band - bottom_band) * 0.03) ** (1 / 365)\n",
                "    else:\n",
                "        return 1"
            ]
        },
        {
            "cell_type": "code",
            "execution_count": 165,
            "metadata": {},
            "outputs": [],
            "source": [
                "def gen_bootstrap_samples(returns_df, bootstrap_replications, no_of_months, kind, block_length=10):\n",
                "    # Generate bootstrap samples\n",
                "\n",
                "    if kind == \"iid\":\n",
                "        bootstrap_samples = iid_bootstrap(\n",
                "            np.array(returns_df),\n",
                "            replications=bootstrap_replications,\n",
                "            sub_sample_length=no_of_months,\n",
                "        )\n",
                "    elif kind == \"stationary\":\n",
                "        bootstrap_samples = bb.stationary_bootstrap(\n",
                "            np.array(returns_df),\n",
                "            block_length=block_length,\n",
                "            replications=bootstrap_replications,\n",
                "            sub_sample_length=no_of_months,\n",
                "        )\n",
                "    else:\n",
                "        raise Exception(f'Unknown bootstrap type: {kind}')\n",
                "\n",
                "    return bootstrap_samples"
            ]
        },
        {
            "cell_type": "code",
            "execution_count": 166,
            "metadata": {},
            "outputs": [],
            "source": [
                "@njit()\n",
                "def sim_portfolio(bootstrap_sample, lower_taxband, upper_taxband, base_yrly_salary, real_salary_yronyr_growth, real_avg_salary_yronyr_growth, daterange1, daterange2, loan_payments):\n",
                "    payments = 0\n",
                "    npv_payments = 0\n",
                "    npv_SP500_payments = 0\n",
                "\n",
                "    i = 0  # which month bootstrap we are on\n",
                "\n",
                "    # only used for NPV calculation, starts when loan is first paid out unlike the previous indices which start on first job\n",
                "    cpih_index = 1\n",
                "    sp500_index = 1\n",
                "\n",
                "    # income, adjusted on jan 01\n",
                "    monthly_income = base_yrly_salary / 12\n",
                "    lower_taxband_monthly_income = lower_taxband / 12\n",
                "    upper_taxband_monthly_income = upper_taxband / 12\n",
                "\n",
                "    # Whilst in University\n",
                "    debt = 0\n",
                "\n",
                "    for single_date in daterange1:\n",
                "        if single_date[-2:] == '01' and single_date != daterange1[0]: # if first of the month\n",
                "            cpih_index *= bootstrap_sample[i, 1]\n",
                "            sp500_index *= bootstrap_sample[i, 0]\n",
                "            i += 1\n",
                "\n",
                "        if single_date in loan_payments:\n",
                "            debt += loan_payments[single_date]\n",
                "\n",
                "        interest = (bootstrap_sample[i, 2] + 0.03) ** (1 / 365) # bootstrap_sample[i, 2] is rpi from previous march\n",
                "        debt *= interest\n",
                "\n",
                "    # After leaving University\n",
                "    for single_date in daterange2:\n",
                "        if single_date[-2:] == '01': \n",
                "            cpih_index *= bootstrap_sample[i, 1]\n",
                "            sp500_index *= bootstrap_sample[i, 0]\n",
                "            i += 1\n",
                "\n",
                "            if single_date[-5:-3] == '01': # if first of jan give pay raise and adjust taxbands. Should taxbands be adjusted on first on jan? Should wages be adjusted on first of jan?\n",
                "                # Nominal (t) = Real (t) * Price (t)\n",
                "                # Nominal (t + 1) / Nominal (t) = Real (t + 1) * Price (t + 1) / (Real (t) * Price (t))\n",
                "\n",
                "                # real_salary_yronyr_growth = Real(t + 1) / Real (t). Real(t + 1) - Real (t) / Real(t) =  Real(t + 1) / Real(t) - 1\n",
                "\n",
                "                # Likely not the best model for the taxbands but raising by median wage growth should be a decent model. \n",
                "                # would be better if real_salary_yronyr_growth and real_avg_salary_yronyr_growth were stochastic\n",
                "                monthly_income *= real_salary_yronyr_growth * bootstrap_sample[i, 1]\n",
                "                lower_taxband_monthly_income *= real_avg_salary_yronyr_growth * bootstrap_sample[i, 1] \n",
                "                upper_taxband_monthly_income *= real_avg_salary_yronyr_growth * bootstrap_sample[i, 1]\n",
                "\n",
                "            repayment = monthly_repayment(monthly_income, lower_taxband_monthly_income)\n",
                "        else:\n",
                "            repayment = 0\n",
                "\n",
                "        # interest is accrued daily whilst repayments are monthly so can't be inside previous if\n",
                "        interest = working_interest(monthly_income, lower_taxband_monthly_income, upper_taxband_monthly_income, bootstrap_sample[i, 2])\n",
                "\n",
                "        # if repayment > debt * interest\n",
                "        repayment = min(repayment, debt * interest)\n",
                "        debt = debt * interest - repayment # i.e. debt = 0\n",
                "\n",
                "        payments += repayment\n",
                "\n",
                "        npv_payments += repayment / cpih_index\n",
                "        npv_SP500_payments += repayment / sp500_index\n",
                "\n",
                "        if debt <= 0:\n",
                "            break\n",
                "\n",
                "    return [payments, npv_payments, npv_SP500_payments]"
            ]
        },
        {
            "cell_type": "code",
            "execution_count": 167,
            "metadata": {},
            "outputs": [],
            "source": [
                "@njit(parallel=True)\n",
                "def run_simulation_numba(bootstrap_samples, lower_taxband, upper_taxband, base_yrly_salary, real_salary_yronyr_growth, real_avg_salary_yronyr_growth, daterange1, daterange2, loan_payments):\n",
                "    results = np.zeros((bootstrap_samples.shape[0], 3))\n",
                "\n",
                "    for i in prange(bootstrap_samples.shape[0]):\n",
                "        results[i] = sim_portfolio(bootstrap_samples[i], lower_taxband, upper_taxband, base_yrly_salary, real_salary_yronyr_growth, real_avg_salary_yronyr_growth, daterange1, daterange2, loan_payments)\n",
                "\n",
                "    return results"
            ]
        },
        {
            "cell_type": "markdown",
            "metadata": {},
            "source": [
                "## Parameters"
            ]
        },
        {
            "cell_type": "code",
            "execution_count": 168,
            "metadata": {},
            "outputs": [],
            "source": [
                "\"\"\"\n",
                "no_runs:                                    Number of simulations to perform\n",
                "\n",
                "base_yrly_salary:                           Your yearly salary in the first year    \n",
                "real_salary_yronyr_growth_relative_to_avg:  Your real wage growth compared to UK average\n",
                "real_avg_salary_yronyr_growth:\n",
                "\n",
                "lower_taxband:                              Taxband where interest starts accruing once out of university, the value should be the one for the year you left university\n",
                "upper_taxband:                              Taxband where interest is at its maximum, the value should be the one for the year you left university\n",
                "\n",
                "loan_payments:                              Each date when you receive a loan payment and the amount.\n",
                "\n",
                "first_repayment:                            The date when you start paying back the loan\n",
                "\"\"\"\n",
                "\n",
                "no_runs = 10000\n",
                "\n",
                "base_yrly_salary = 28000\n",
                "real_salary_yronyr_growth_relative_to_avg = 0.02 # should change so its relative to avg for uni graduates\n",
                "\n",
                "# Median income data is only available yearly till 1997 from Annual Survey of Hours and Earnings (ASHE), https://www.nomisweb.co.uk/datasets/asher? Average is monthly but only goes to 2001, https://www.ons.gov.uk/employmentandlabourmarket/peopleinwork/earningsandworkinghours/timeseries/eqjp/emp \n",
                "# this has from 2007 https://explore-education-statistics.service.gov.uk/find-statistics/graduate-labour-markets by education\n",
                "\n",
                "real_avg_salary_yronyr_growth = 1.02\n",
                "\n",
                "lower_taxband = 27295\n",
                "upper_taxband = 49130\n",
                "\n",
                "tution_loan = 9250\n",
                "maintenance_loan = 4422\n",
                "\n",
                "loan_payments = { # Update when loan payments change.\n",
                "    \"2021-10-05\": maintenance_loan / 3,\n",
                "    \"2021-10-20\": tution_loan / 4,\n",
                "    \"2022-01-18\": maintenance_loan / 3,\n",
                "    \"2022-02-02\": tution_loan / 4, \n",
                "    \"2022-04-26\": maintenance_loan / 3,\n",
                "    \"2022-05-04\": tution_loan / 2,\n",
                "    \"2022-10-04\": maintenance_loan / 3,\n",
                "    \"2022-10-19\": tution_loan / 4, \n",
                "    \"2023-01-17\": maintenance_loan / 3,\n",
                "    \"2023-02-01\": tution_loan / 4, \n",
                "    \"2023-04-25\": maintenance_loan / 3,\n",
                "    \"2023-05-03\": tution_loan / 2,\n",
                "    \"2023-10-03\": maintenance_loan / 3,\n",
                "    \"2023-10-18\": tution_loan / 4,\n",
                "    \"2024-01-16\": maintenance_loan / 3, \n",
                "    \"2024-01-31\": tution_loan / 4,\n",
                "    \"2024-04-24\": maintenance_loan / 3, \n",
                "    \"2024-05-02\": tution_loan / 2,\n",
                "    \"2024-10-02\": maintenance_loan / 3,\n",
                "    \"2024-10-17\": tution_loan / 4, \n",
                "    \"2025-01-15\": maintenance_loan / 3,\n",
                "    \"2025-01-30\": tution_loan / 4,\n",
                "    \"2025-04-23\": maintenance_loan / 3,\n",
                "    \"2025-05-01\": tution_loan / 2,\n",
                "}\n",
                "\n",
                "first_repayment = \"2026-04-05\""
            ]
        },
        {
            "cell_type": "code",
            "execution_count": 169,
            "metadata": {},
            "outputs": [],
            "source": [
                "first_payment = sorted(loan_payments)[0] # The date of the first payment from student loan company to you, also the date interest starts accruing\n",
                "\n",
                "real_salary_yronyr_growth = real_avg_salary_yronyr_growth + real_salary_yronyr_growth_relative_to_avg\n",
                "\n",
                "last_repayment = (pd.Timestamp(first_repayment) + pd.DateOffset(years = 30)).strftime(\"%Y-%m-%d\") # 30 years after first repayment, \n",
                "\n",
                "daterange1 = [d.strftime(\"%Y-%m-%d\") for d in pd.date_range(first_payment, first_repayment)] # converts each date into a string formatted Year - Month - Day.\n",
                "daterange2 = [d.strftime(\"%Y-%m-%d\") for d in pd.date_range((pd.Timestamp(first_repayment) + pd.DateOffset(1)).strftime(\"%Y-%m-%d\"), last_repayment)]\n",
                "\n",
                "daterange1_numba = List(daterange1) # numba doesn't like list of strings being passed to it, doubles in speed by this\n",
                "daterange2_numba = List(daterange2)"
            ]
        },
        {
            "cell_type": "code",
            "execution_count": 170,
            "metadata": {},
            "outputs": [],
            "source": [
                "# Convert dict into numba dict so it can be passed into a njited function\n",
                "loan_payments_numba = Dict.empty(types.string, types.float64)\n",
                "\n",
                "for (key, value) in loan_payments.items():\n",
                "    loan_payments_numba[key] = value"
            ]
        },
        {
            "cell_type": "markdown",
            "metadata": {},
            "source": [
                "# Results"
            ]
        },
        {
            "cell_type": "code",
            "execution_count": 171,
            "metadata": {},
            "outputs": [
                {
                    "name": "stdout",
                    "output_type": "stream",
                    "text": [
                        "Generating bootstrap sample...\n"
                    ]
                }
            ],
            "source": [
                "start_date = pd.Timestamp(first_payment)\n",
                "end_date = pd.Timestamp(last_repayment)\n",
                "no_of_months = (end_date.year - start_date.year) * 12 + (end_date.month - start_date.month)\n",
                "\n",
                "# np.random.seed(0) # for testing purposes, comment out otherwise\n",
                "\n",
                "print('Generating bootstrap sample...')\n",
                "bootstrap_samples = gen_bootstrap_samples(all_data, no_runs, no_of_months, kind='stationary', block_length=36) # see end for optimal block length calculations.\n",
                "# 'The block size is unfortunately a tuning parameter. The optimal stationary bootstrap block size for stocks and bonds was low, but it was over 10 years for cash-equivalent securities and inflation. Since the 'optimal' choice is calculated bas-series dependence, I expect that there's more time dependence for cash and inflation. This could be related to the business cycle or 'regime-switching' behavior documented in the macro-econometrics lit (generally linked with monetary policy regimes). Anyways, knowing the optimal blocks size is hard, but I don't think it's too big of an issue to use 10yrs when the optimal length is more than 10 for some variables. Also, if the data really was independent, block bootstraps would work (should get results similar to iid bootstrap) but they would just be less efficient.'"
            ]
        },
        {
            "cell_type": "code",
            "execution_count": 172,
            "metadata": {},
            "outputs": [
                {
                    "name": "stdout",
                    "output_type": "stream",
                    "text": [
                        "Simulating...\n"
                    ]
                }
            ],
            "source": [
                "print('Simulating...')\n",
                "results = run_simulation_numba(bootstrap_samples, lower_taxband, upper_taxband, base_yrly_salary, real_salary_yronyr_growth, real_avg_salary_yronyr_growth, daterange1_numba, daterange2_numba, loan_payments_numba) # first run will take longer as numba has to compile btw\n",
                "# Results is a n x 3 matrix, with columns being nominal repayments, NPV of repayments wrt CPIH and NPV of repayments wrt SP500."
            ]
        },
        {
            "cell_type": "code",
            "execution_count": 173,
            "metadata": {},
            "outputs": [
                {
                    "name": "stdout",
                    "output_type": "stream",
                    "text": [
                        "Plot...\n"
                    ]
                },
                {
                    "data": {
                        "image/png": "[encoded data removed]",
                        "text/plain": [
                            "<Figure size 432x288 with 1 Axes>"
                        ]
                    },
                    "metadata": {},
                    "output_type": "display_data"
                }
            ],
            "source": [
                "print('Plot...')\n",
                "\n",
                "S = results[:, 2]\n",
                "plt.hist(S, weights=np.ones_like(S) / len(S), bins=40)\n",
                "plt.ylabel(\"Probability of falling in the bin\")\n",
                "plt.xlabel(\"NPV wrt S&P 500 (£)\");"
            ]
        },
        {
            "cell_type": "code",
            "execution_count": 174,
            "metadata": {},
            "outputs": [
                {
                    "data": {
                        "image/png": "[encoded data removed]",
                        "text/plain": [
                            "<Figure size 432x288 with 1 Axes>"
                        ]
                    },
                    "metadata": {},
                    "output_type": "display_data"
                }
            ],
            "source": [
                "# X axis limited to be able to see more granular data\n",
                "\n",
                "S = results[:, 2]\n",
                "plt.hist(S, weights=np.ones_like(S) / len(S), bins=100)\n",
                "plt.ylabel(\"Probability of falling in the bin\")\n",
                "plt.xlabel(\"NPV wrt S&P 500 (£)\")\n",
                "plt.xlim([0, 50000]);"
            ]
        },
        {
            "cell_type": "code",
            "execution_count": 175,
            "metadata": {},
            "outputs": [
                {
                    "data": {
                        "image/png": "[encoded data removed]",
                        "text/plain": [
                            "<Figure size 432x288 with 1 Axes>"
                        ]
                    },
                    "metadata": {},
                    "output_type": "display_data"
                }
            ],
            "source": [
                "S = results[:, 2]\n",
                "\n",
                "fig, ax = plt.subplots()\n",
                "ax.plot(np.sort(S), np.linspace(1/len(S), 1, len(S)))\n",
                "plt.ylabel(\"Probability of $\\leq$\")\n",
                "plt.xlabel(\"NPV wrt S&P 500 (£)\")\n",
                "ax.yaxis.set_major_locator(ticker.MultipleLocator(0.1)); # Show axis ticks every 0.1"
            ]
        },
        {
            "cell_type": "code",
            "execution_count": 176,
            "metadata": {},
            "outputs": [
                {
                    "data": {
                        "image/png": "[encoded data removed]",
                        "text/plain": [
                            "<Figure size 432x288 with 1 Axes>"
                        ]
                    },
                    "metadata": {},
                    "output_type": "display_data"
                }
            ],
            "source": [
                "S = results[:, 2]\n",
                "\n",
                "fig, ax = plt.subplots()\n",
                "ax.plot(np.sort(S), np.linspace(1/len(S), 1, len(S)))\n",
                "plt.ylabel(\"Probability of $\\leq$\")\n",
                "plt.xlabel(\"NPV wrt S&P 500 (£)\")\n",
                "ax.yaxis.set_major_locator(ticker.MultipleLocator(0.1))\n",
                "plt.xlim([0, 50000]);"
            ]
        },
        {
            "cell_type": "code",
            "execution_count": 177,
            "metadata": {},
            "outputs": [
                {
                    "data": {
                        "image/png": "[encoded data removed]",
                        "text/plain": [
                            "<Figure size 432x288 with 1 Axes>"
                        ]
                    },
                    "metadata": {},
                    "output_type": "display_data"
                }
            ],
            "source": [
                "S = results[:, 1]\n",
                "\n",
                "plt.hist(S, weights=np.ones_like(S) / len(S), bins=30)\n",
                "plt.ylabel(\"Probability of falling in the bin\")\n",
                "plt.xlabel(\"NPV wrt CPIH (£)\");"
            ]
        },
        {
            "cell_type": "code",
            "execution_count": 178,
            "metadata": {},
            "outputs": [
                {
                    "data": {
                        "image/png": "[encoded data removed]",
                        "text/plain": [
                            "<Figure size 432x288 with 1 Axes>"
                        ]
                    },
                    "metadata": {},
                    "output_type": "display_data"
                }
            ],
            "source": [
                "S = results[:, 1]\n",
                "\n",
                "fig, ax = plt.subplots(1,1)\n",
                "ax.plot(np.sort(S), np.linspace(1/len(S), 1, len(S)))\n",
                "plt.ylabel(\"Probability of $\\leq$\")\n",
                "plt.xlabel(\"NPV wrt CPIH (£)\")\n",
                "ax.yaxis.set_major_locator(ticker.MultipleLocator(0.1));"
            ]
        },
        {
            "cell_type": "code",
            "execution_count": 179,
            "metadata": {},
            "outputs": [
                {
                    "data": {
                        "image/png": "[encoded data removed]",
                        "text/plain": [
                            "<Figure size 432x288 with 1 Axes>"
                        ]
                    },
                    "metadata": {},
                    "output_type": "display_data"
                }
            ],
            "source": [
                "S = results[:, 0]\n",
                "plt.hist(S, weights=np.ones_like(S) / len(S), bins=30)\n",
                "plt.ylabel(\"Probability of falling in the bin\")\n",
                "plt.xlabel(\"Total Repayment (£)\");"
            ]
        },
        {
            "cell_type": "code",
            "execution_count": 180,
            "metadata": {},
            "outputs": [
                {
                    "name": "stdout",
                    "output_type": "stream",
                    "text": [
                        "(OptimalBlockLength(b_star_sb=1.2106203199274674, b_star_cb=1.3858143225454433), OptimalBlockLength(b_star_sb=2.719305138096754, b_star_cb=3.112827321427809), OptimalBlockLength(b_star_sb=30.12902047323698, b_star_cb=34.489118849895306))\n"
                    ]
                }
            ],
            "source": [
                "print(optimal_block_length(np.array(all_data)))"
            ]
        },
        {
            "cell_type": "markdown",
            "metadata": {},
            "source": [
                "Some timing data to work out best way to parallelise code\n",
                "\n",
                "100 runs | 1 (s) | 2 (s) | 3 (s)\n",
                "--- | --- | --- | ---\n",
                "jit multiprocessing pool (first 5s is setup) | 5.72 | 5.86 | 5.34\n",
                "jit no pool | 6.78 | 3.08 | 3.02 | 3.03\n",
                "\n",
                "1000 runs | 1 (s) | 2 (s) | 3 (s)\n",
                "--- | --- | --- | ---\n",
                "jit multiprocessing pool no gil (first 5s is setup) | 10.2 | 10.8\n",
                "jit multiprocessing pool no gil everywhere (first 5s is setup) | 10.4 | 10.1 \n",
                "jit multiprocessing pool (first 5s is setup) | 10.6 | 9.94 \n",
                "jit njit parallel | 0.255\n",
                "jit no pool | 31.1\n",
                "\n",
                "100000 runs | 1 (s) | 2 (s) | 3 (s)\n",
                "--- | --- | --- | ---\n",
                "jit njit parallel | 25 | 25.1\n",
                "jit njit parallel typed list | 11.3 | 11.8\n",
                "jit multiprocessing pool | 543.8"
            ]
        }
    ],
    "metadata": {
        "interpreter": {
            "hash": "1fba36e030b2a3a508af52da982846fbf28be62b370634867d2bea270fbd150f"
        },
        "kernelspec": {
            "display_name": "Python 3.8.8 64-bit ('base': conda)",
            "name": "python3"
        },
        "language_info": {
            "codemirror_mode": {
                "name": "ipython",
                "version": 3
            },
            "file_extension": ".py",
            "mimetype": "text/x-python",
            "name": "python",
            "nbconvert_exporter": "python",
            "pygments_lexer": "ipython3",
            "version": "3.9.7"
        },
        "orig_nbformat": 4
    },
    "nbformat": 4,
    "nbformat_minor": 2
}
